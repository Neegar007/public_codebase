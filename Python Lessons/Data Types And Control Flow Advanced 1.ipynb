{
 "cells": [
  {
   "cell_type": "markdown",
   "id": "4874760a",
   "metadata": {},
   "source": [
    "# Advanced Data Types"
   ]
  },
  {
   "cell_type": "markdown",
   "id": "ee736a8b",
   "metadata": {},
   "source": [
    "## ** List"
   ]
  },
  {
   "cell_type": "code",
   "execution_count": 14,
   "id": "764eedc2",
   "metadata": {},
   "outputs": [
    {
     "name": "stdout",
     "output_type": "stream",
     "text": [
      "['jef', 1, 4.6, 'PC', False]\n"
     ]
    }
   ],
   "source": [
    "# Each has index starting with 0. Lists are Mutable\n",
    "lists = [\"jef\",1,4.6,\"computer\",False]\n",
    "lists[3] = \"PC\" \n",
    "\n",
    "print(lists)"
   ]
  },
  {
   "cell_type": "markdown",
   "id": "cb25d659",
   "metadata": {},
   "source": [
    "## ** Tuple"
   ]
  },
  {
   "cell_type": "code",
   "execution_count": 4,
   "id": "39d1bdd0",
   "metadata": {},
   "outputs": [],
   "source": [
    "# This is immutable. Meaning they cannot be changed but same as the list. Good for securing sensitive data\n",
    "tuples =(\"jef\",2,5.03,True)"
   ]
  },
  {
   "cell_type": "markdown",
   "id": "328dd25a",
   "metadata": {},
   "source": [
    "## ** Sets"
   ]
  },
  {
   "cell_type": "code",
   "execution_count": 17,
   "id": "2301fe6b",
   "metadata": {},
   "outputs": [
    {
     "name": "stdout",
     "output_type": "stream",
     "text": [
      "{78, 21, 58.352, 'sets'}\n"
     ]
    }
   ],
   "source": [
    "# This is the same as lists and tuple but not ordered, indexed but mutable. Used to performs maths operations like union,\n",
    "# intersection, difference etc. cannot have duplicate data\n",
    "# values are accessed using add() to add data; pop() to remove data\n",
    "\n",
    "sets = {\"sets\", 21, 58.352, True}\n",
    "sets.add(78)\n",
    "sets.pop()\n",
    "\n",
    "print(sets)"
   ]
  },
  {
   "cell_type": "markdown",
   "id": "dee5e76d",
   "metadata": {},
   "source": [
    "## ** Dictionary"
   ]
  },
  {
   "cell_type": "code",
   "execution_count": 3,
   "id": "96aa1ea9",
   "metadata": {},
   "outputs": [
    {
     "name": "stdout",
     "output_type": "stream",
     "text": [
      "True\n"
     ]
    }
   ],
   "source": [
    "# Same as list and tuple but not ordered, contains key-value pairs. Keys can be integer or float\n",
    "# tuple can be used as keys becase it is immutable while list can be used as values\n",
    "# Key cannot appear more than once\n",
    "# Dictionary values are accessed using the get() method\n",
    "\n",
    "dictionary = {\"key\":\"donga\", \"size\":24, \"price\":2.5, \"Old\":False}\n",
    "dictionary2 = {\"pen\":[\"Parker\",\"Reynolds\",\"Camlin\"],(\"LG\",\"Whirlpool\",\"Samsung\"):\"Refrigerator\"}\n",
    "\n",
    "dictionary.get(\"key\")\n",
    "dictionary2.get(\"pen\")\n",
    "print(\"pen\" in dictionary2)"
   ]
  },
  {
   "cell_type": "markdown",
   "id": "94ee9e00",
   "metadata": {},
   "source": [
    "# Control Flow"
   ]
  },
  {
   "cell_type": "markdown",
   "id": "03403644",
   "metadata": {},
   "source": [
    "## ** Conditional Statements"
   ]
  },
  {
   "cell_type": "code",
   "execution_count": 2,
   "id": "f25a9a67",
   "metadata": {},
   "outputs": [
    {
     "name": "stdout",
     "output_type": "stream",
     "text": [
      "20\n",
      "Either way\n"
     ]
    }
   ],
   "source": [
    "x = 10\n",
    "y = 20\n",
    "z = 30\n",
    "if y > x :\n",
    "    print(y)\n",
    "elif z > y :\n",
    "    print(z)\n",
    "else :\n",
    "    print(x)\n",
    "print(\"Either way\")"
   ]
  },
  {
   "cell_type": "code",
   "execution_count": 4,
   "id": "ed0e5f4c",
   "metadata": {},
   "outputs": [
    {
     "name": "stdout",
     "output_type": "stream",
     "text": [
      "This is block zero, no indentation. Not under any conditional statement.\n"
     ]
    }
   ],
   "source": [
    "if y < x :\n",
    "    print(\"This is the first block\")\n",
    "    \n",
    "    if z > y :\n",
    "        print(z)\n",
    "    elif x > y :\n",
    "        print(x)\n",
    "    print(\"This is the first block also\")\n",
    "print(\"This is block zero, no indentation. Not under any conditional statement.\")"
   ]
  },
  {
   "cell_type": "code",
   "execution_count": 5,
   "id": "c2b331be",
   "metadata": {},
   "outputs": [
    {
     "name": "stdout",
     "output_type": "stream",
     "text": [
      "[1, 20.53, 'Red']\n"
     ]
    }
   ],
   "source": [
    "# Advanced conditional statements\n",
    "\n",
    "my_list = [1,20.53,\"Red\"]\n",
    "\n",
    "if 1 in my_list :\n",
    "    print(my_list)"
   ]
  },
  {
   "cell_type": "code",
   "execution_count": 9,
   "id": "bfe6c2dc",
   "metadata": {},
   "outputs": [
    {
     "name": "stdout",
     "output_type": "stream",
     "text": [
      "That\n"
     ]
    }
   ],
   "source": [
    "x = 5\n",
    "y = 7\n",
    "z = 8\n",
    "\n",
    "if x > y and z > y : # False and True --> Return False\n",
    "    print (\"This\")\n",
    "elif x > y or z > y : # False or True --> Return True\n",
    "    print(\"That\")\n"
   ]
  },
  {
   "cell_type": "markdown",
   "id": "0ffdb82b",
   "metadata": {},
   "source": [
    "# LOOPS"
   ]
  },
  {
   "cell_type": "markdown",
   "id": "7b5eddee",
   "metadata": {},
   "source": [
    "## ** For Loops"
   ]
  },
  {
   "cell_type": "code",
   "execution_count": null,
   "id": "65a4b86e",
   "metadata": {},
   "outputs": [],
   "source": [
    "# You can use range() funtion to iterate n times or over advanced data types\n",
    "# You specify start, end and the step for the range function: range(1,10,2)\n",
    "\n",
    "my_list = [10,25,38,52,4.5]\n",
    "\n",
    "for element in my_list :\n",
    "    if element > 30 :\n",
    "        break\n",
    "    print(element)\n",
    "    \n",
    "print(\"---------------------------------------------\")\n",
    "\n",
    "for element in range(1,10,2) :\n",
    "    print(element)"
   ]
  },
  {
   "cell_type": "markdown",
   "id": "36eac074",
   "metadata": {},
   "source": [
    "## ** While Loops"
   ]
  },
  {
   "cell_type": "code",
   "execution_count": 60,
   "id": "189ef914",
   "metadata": {},
   "outputs": [
    {
     "name": "stdout",
     "output_type": "stream",
     "text": [
      "5\n",
      "9\n",
      "17\n",
      "3\n"
     ]
    }
   ],
   "source": [
    "# While loops are used when we don't know how many iterations we have\n",
    "# Code will continue to run until false logic is reached.\n",
    "\n",
    "my_list = [5, 4, 8, 9, 7, 6, 2, 3, 1]\n",
    "index = 0\n",
    "res_add = 0\n",
    "\n",
    "while res_add < 10 :\n",
    "    res_add = res_add + my_list[index]\n",
    "    index += 1 # counter\n",
    "    print(res_add)\n",
    "print(index)\n",
    "    \n",
    "# i = 0\n",
    "# while i < 10:\n",
    "#    print(i)\n",
    "#    i += 1 # this is the counter increment lest 'i' remain less than 10 therefore running into infinite loop\n"
   ]
  },
  {
   "cell_type": "markdown",
   "id": "3050245d",
   "metadata": {},
   "source": []
  },
  {
   "cell_type": "code",
   "execution_count": null,
   "id": "a8ac9d8e",
   "metadata": {},
   "outputs": [],
   "source": []
  }
 ],
 "metadata": {
  "kernelspec": {
   "display_name": "Python 3 (ipykernel)",
   "language": "python",
   "name": "python3"
  },
  "language_info": {
   "codemirror_mode": {
    "name": "ipython",
    "version": 3
   },
   "file_extension": ".py",
   "mimetype": "text/x-python",
   "name": "python",
   "nbconvert_exporter": "python",
   "pygments_lexer": "ipython3",
   "version": "3.11.4"
  }
 },
 "nbformat": 4,
 "nbformat_minor": 5
}
