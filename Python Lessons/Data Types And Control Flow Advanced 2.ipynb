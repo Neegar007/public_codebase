{
 "cells": [
  {
   "cell_type": "markdown",
   "id": "ccb7587e",
   "metadata": {},
   "source": [
    "## Break Statements"
   ]
  },
  {
   "cell_type": "code",
   "execution_count": 2,
   "id": "14589e81",
   "metadata": {},
   "outputs": [
    {
     "name": "stdout",
     "output_type": "stream",
     "text": [
      "1\n",
      "4\n",
      "3\n",
      "The LOOP will stop\n"
     ]
    }
   ],
   "source": [
    " # Alter a control flow if a condition is met\n",
    "    \n",
    "my_list = [1, 4, 3, \"stop\", 2.5, 56]\n",
    "\n",
    "for i in my_list :\n",
    "    if i == \"stop\":\n",
    "        print(\"The LOOP will stop\")\n",
    "        break\n",
    "    print(i)"
   ]
  },
  {
   "cell_type": "code",
   "execution_count": 4,
   "id": "4255dec7",
   "metadata": {},
   "outputs": [
    {
     "name": "stdout",
     "output_type": "stream",
     "text": [
      "1\n",
      "4\n",
      "3\n",
      "stop\n",
      "This LOOP will stop\n"
     ]
    }
   ],
   "source": [
    "index = 0\n",
    "\n",
    "while index < len(my_list) :\n",
    "    current_element = my_list[index]\n",
    "    print(current_element)\n",
    "    if current_element == \"stop\" :\n",
    "        print(\"This LOOP will stop\")\n",
    "        break\n",
    "    index += 1"
   ]
  },
  {
   "cell_type": "markdown",
   "id": "1f4738e7",
   "metadata": {},
   "source": [
    "## Continue Statements"
   ]
  },
  {
   "cell_type": "code",
   "execution_count": 7,
   "id": "7ca4db21",
   "metadata": {},
   "outputs": [
    {
     "name": "stdout",
     "output_type": "stream",
     "text": [
      "1\n",
      "4\n",
      "3\n",
      "The LOOP will jump 'stop' value\n",
      "2.5\n",
      "56\n",
      "The LOOP will jump 'stop' value\n",
      "Seyi\n"
     ]
    }
   ],
   "source": [
    "# We use it to skip some iterations from a for/while loop if some condition happens\n",
    "\n",
    "my_list = [1, 4, 3, \"stop\", 2.5, 56,\"stop\", \"Seyi\"]\n",
    "\n",
    "for i in my_list :\n",
    "    if i == \"stop\":\n",
    "        print(\"The LOOP will jump 'stop' value\")\n",
    "        continue\n",
    "    print(i)"
   ]
  },
  {
   "cell_type": "code",
   "execution_count": 63,
   "id": "823383b5",
   "metadata": {},
   "outputs": [
    {
     "ename": "IndentationError",
     "evalue": "unexpected indent (1742761564.py, line 10)",
     "output_type": "error",
     "traceback": [
      "\u001b[1;36m  Cell \u001b[1;32mIn[63], line 10\u001b[1;36m\u001b[0m\n\u001b[1;33m    continue\u001b[0m\n\u001b[1;37m    ^\u001b[0m\n\u001b[1;31mIndentationError\u001b[0m\u001b[1;31m:\u001b[0m unexpected indent\n"
     ]
    }
   ],
   "source": [
    "# This code is generating infinite loop which shouldn't be\n",
    "\n",
    "index = 0\n",
    "my_list = [5, 8, 2.3, \"stop\", 4.2, \"stop\", 41]\n",
    "while index < len(my_list) :\n",
    "    current_element = my_list[index]\n",
    "    print(current_element)\n",
    "    if current_element == \"stop\" :\n",
    "        print(\"This LOOP will jump 'stop' value\")\n",
    "        #continue\n",
    "    index += 1"
   ]
  },
  {
   "cell_type": "markdown",
   "id": "088869f5",
   "metadata": {},
   "source": [
    "## Zip Function"
   ]
  },
  {
   "cell_type": "code",
   "execution_count": 2,
   "id": "e418dede",
   "metadata": {},
   "outputs": [
    {
     "name": "stdout",
     "output_type": "stream",
     "text": [
      "((1, 5), (5, 6), (3, 8))\n"
     ]
    }
   ],
   "source": [
    "# Matches iterables to iterators. \n",
    "# used to iterate over multiple iterables\n",
    "# You can unzip with * character\n",
    "\n",
    "list_1 = [1 , 5 , 3]\n",
    "list_2 = [5 , 6 , 8]\n",
    "\n",
    "zipList = zip(list_1, list_2) \n",
    "\n",
    "print(tuple(zipList))"
   ]
  },
  {
   "cell_type": "code",
   "execution_count": 4,
   "id": "c22277b1",
   "metadata": {},
   "outputs": [],
   "source": [
    "for i1, i2 in zipList:\n",
    "    print(i1, i2)"
   ]
  },
  {
   "cell_type": "markdown",
   "id": "8990f659",
   "metadata": {},
   "source": [
    "## Enumerator"
   ]
  },
  {
   "cell_type": "code",
   "execution_count": 2,
   "id": "59346a1e",
   "metadata": {},
   "outputs": [
    {
     "name": "stdout",
     "output_type": "stream",
     "text": [
      "(0, 1)\n",
      "[(0, 1), (1, 5), (2, 3), (3, 'seyi')]\n"
     ]
    }
   ],
   "source": [
    "# This performs like zip but with a counter. This accepts one list\n",
    "\n",
    "list_1 = [1 , 5 , 3,\"seyi\"]\n",
    "\n",
    "print(list(enumerate(list_1))[0]) # Accessed through index key\n",
    "print(list(enumerate(list_1))) # Print all values with keys"
   ]
  },
  {
   "cell_type": "code",
   "execution_count": 3,
   "id": "513e8a78",
   "metadata": {},
   "outputs": [
    {
     "name": "stdout",
     "output_type": "stream",
     "text": [
      "0 1\n",
      "1 5\n",
      "2 3\n",
      "3 seyi\n"
     ]
    }
   ],
   "source": [
    "for i, c in enumerate(list_1) :\n",
    "    print(i, c)"
   ]
  },
  {
   "cell_type": "markdown",
   "id": "2651c56b",
   "metadata": {},
   "source": [
    "## List Comprehension"
   ]
  },
  {
   "cell_type": "code",
   "execution_count": null,
   "id": "4c54d191",
   "metadata": {},
   "outputs": [],
   "source": [
    "# If you want to build a list faster\n",
    "\n",
    "myNormalList = []\n",
    "\n",
    "for currentElement in range(10) :\n",
    "    myNormalList.append(currentElement)\n",
    "    #print(myNormalList) #--> This line will return a step of numbers\n",
    "print(myNormalList)\n"
   ]
  },
  {
   "cell_type": "code",
   "execution_count": 59,
   "id": "1979eb5b",
   "metadata": {},
   "outputs": [
    {
     "name": "stdout",
     "output_type": "stream",
     "text": [
      "[0, 1, 2, 3, 4, 5, 6, 7, 8, 9]\n"
     ]
    }
   ],
   "source": [
    "# This will create a list within the range 0 - 9. The ultra fastest way\n",
    "comprehensionList = [compElement for compElement in range(10)] \n",
    "\n",
    "print(comprehensionList)"
   ]
  },
  {
   "cell_type": "code",
   "execution_count": null,
   "id": "9f0e6e45",
   "metadata": {},
   "outputs": [],
   "source": []
  }
 ],
 "metadata": {
  "kernelspec": {
   "display_name": "Python 3 (ipykernel)",
   "language": "python",
   "name": "python3"
  },
  "language_info": {
   "codemirror_mode": {
    "name": "ipython",
    "version": 3
   },
   "file_extension": ".py",
   "mimetype": "text/x-python",
   "name": "python",
   "nbconvert_exporter": "python",
   "pygments_lexer": "ipython3",
   "version": "3.11.4"
  }
 },
 "nbformat": 4,
 "nbformat_minor": 5
}
