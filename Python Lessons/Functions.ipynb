{
 "cells": [
  {
   "cell_type": "markdown",
   "id": "3e2adbc3",
   "metadata": {},
   "source": [
    "## Help Function"
   ]
  },
  {
   "cell_type": "code",
   "execution_count": null,
   "id": "83b45041",
   "metadata": {},
   "outputs": [],
   "source": [
    "# Python built-in function\n",
    "help(print)"
   ]
  },
  {
   "cell_type": "markdown",
   "id": "d29d8502",
   "metadata": {},
   "source": [
    "## Defining custom function"
   ]
  },
  {
   "cell_type": "code",
   "execution_count": null,
   "id": "94255c2b",
   "metadata": {},
   "outputs": [],
   "source": [
    "# name your function exactly what it is doing. i.e descriptive names\n",
    "# Python allows you to have optional input in your function header.E.g def testFunc(x, y, z = 1); z is optional\n",
    "\n",
    "def countries(country = \"Nigeria\"):\n",
    "    print(\"You are from \", country)\n",
    "    \n",
    "countries(\"Ghana\")\n",
    "countries() "
   ]
  },
  {
   "cell_type": "code",
   "execution_count": null,
   "id": "3cf26ebc",
   "metadata": {},
   "outputs": [],
   "source": [
    "def multiply(firstNum, secondNum=3.5) :\n",
    "    result = firstNum * secondNum\n",
    "    return result\n",
    "\n",
    "res = multiply(43,2) # Use our own parameters\n",
    "res2 = multiply(58) # Use default secondNum value\n",
    "\n",
    "print(res)\n",
    "print(res2)\n"
   ]
  },
  {
   "cell_type": "markdown",
   "id": "7ae381bb",
   "metadata": {},
   "source": [
    "## Variable Scope"
   ]
  },
  {
   "cell_type": "code",
   "execution_count": null,
   "id": "d4575852",
   "metadata": {},
   "outputs": [],
   "source": [
    "# Global And Local\n",
    "# Global variables are accessed anywhere in the code WHILE a local variable can only be accessed inside a function\n",
    "# global keyword makes a local variable global outside or inside the function\n",
    "\n",
    "result = 5 \n",
    "\n",
    "def add(num1, num2):\n",
    "    global result\n",
    "    result = num1 + num2\n",
    "    return result\n",
    "\n",
    "print(add(8,8))\n",
    "print(result)"
   ]
  },
  {
   "cell_type": "markdown",
   "id": "7bb04016",
   "metadata": {},
   "source": [
    "## Doc Strings"
   ]
  },
  {
   "cell_type": "code",
   "execution_count": null,
   "id": "04019cdd",
   "metadata": {},
   "outputs": [],
   "source": [
    "# Crucial for documenting Python functions\n",
    "# It stands for documentation strings defined with three quotation marks"
   ]
  },
  {
   "cell_type": "code",
   "execution_count": null,
   "id": "02fde31e",
   "metadata": {},
   "outputs": [],
   "source": []
  }
 ],
 "metadata": {
  "kernelspec": {
   "display_name": "Python 3 (ipykernel)",
   "language": "python",
   "name": "python3"
  },
  "language_info": {
   "codemirror_mode": {
    "name": "ipython",
    "version": 3
   },
   "file_extension": ".py",
   "mimetype": "text/x-python",
   "name": "python",
   "nbconvert_exporter": "python",
   "pygments_lexer": "ipython3",
   "version": "3.10.12"
  }
 },
 "nbformat": 4,
 "nbformat_minor": 5
}
