{
 "cells": [
  {
   "cell_type": "markdown",
   "id": "31a984fb",
   "metadata": {},
   "source": [
    "# Importing Script"
   ]
  },
  {
   "cell_type": "code",
   "execution_count": null,
   "id": "65eab678",
   "metadata": {},
   "outputs": [],
   "source": [
    "# When your projects gets bigger, it's better to refactor it into different modules\n",
    "# To use this file, use import keyword. E.g import module1\n",
    "# In case you only need a function or two from the module, just import only those instead of the whole file. \n",
    "# E.g from module1 import function1, function2\n",
    "# You can rename the module using as keword. E.g import module1 as m1.\n",
    "# You can combine the last two points above. E.g from module1 import function1 as F1, function2 as F2"
   ]
  },
  {
   "cell_type": "markdown",
   "id": "5b2443ae",
   "metadata": {},
   "source": [
    "## --> Standard Libraries"
   ]
  },
  {
   "cell_type": "markdown",
   "id": "37539252",
   "metadata": {},
   "source": [
    "### * Numpy"
   ]
  },
  {
   "cell_type": "code",
   "execution_count": null,
   "id": "20171e7c",
   "metadata": {},
   "outputs": [],
   "source": [
    "# Used to complex mathematical operations. Used by data scientists, machine learning\n",
    "# Main data structure is arrays. A multi-dimensional array with the same data type.\n",
    "# Can be created using Numpy functions or by converting Python lists to Numpy arrays\n",
    "# Standard practice is to give the module an alias 'np' after importing\n",
    "# Convert a Python list into Numpy array using 'np.asarray' function. E.g\n",
    "'''\n",
    "    import numpy as np\n",
    "    list = [1,2,3,6]\n",
    "    npArray = np.asarray(list)\n",
    "'''\n",
    "# We can get the SHAPE and the DATA TYPE of the array element ushig 'shape' and 'dtype' attributes. E.g\n",
    "'''\n",
    "    print(npArray.shape)\n",
    "    print(npArray.dtype)\n",
    "'''\n",
    "# You can also FORCE the data type of the Numpy array. E.g\n",
    "'''\n",
    "    npArray = np.array(mylist, dtype = np.int64)\n",
    "    print(npArray.shape)\n",
    "    print(npArray.dtype)\n",
    "'''\n",
    "# Numpy has its own data types whis is different from Python ones. E.g int is different from int64\n",
    "# Other array functions are : \n",
    "'''\n",
    "    np.zeros((2,5))\n",
    "    np.ones((3,6))\n",
    "    np.arange((6)) # similar to range funtion\n",
    "    np.linespace(0,10,2)\n",
    "    np.random.random((5,5))\n",
    "'''\n"
   ]
  },
  {
   "cell_type": "code",
   "execution_count": 35,
   "id": "30ad7f1b",
   "metadata": {},
   "outputs": [
    {
     "name": "stdout",
     "output_type": "stream",
     "text": [
      "[ 1  2  3  4  5  6  7  8  9 10 11 12 13]\n",
      "(13,)\n",
      "int32\n",
      "13\n",
      "91\n"
     ]
    }
   ],
   "source": [
    "import numpy as np\n",
    "\n",
    "my_list = [1,2,3,4,5,6,7,8,9,10,11,12,13]\n",
    "npArray = np.asarray(my_list)\n",
    "\n",
    "print(npArray)\n",
    "print(npArray.shape)\n",
    "print(npArray.dtype)\n",
    "print(npArray.max())\n",
    "print(npArray.sum())"
   ]
  },
  {
   "cell_type": "code",
   "execution_count": 46,
   "id": "76fd7c24",
   "metadata": {},
   "outputs": [
    {
     "name": "stdout",
     "output_type": "stream",
     "text": [
      "[[0 0 0]\n",
      " [0 0 0]]\n",
      "[[1. 1. 1. 1. 1. 1.]\n",
      " [1. 1. 1. 1. 1. 1.]\n",
      " [1. 1. 1. 1. 1. 1.]]\n",
      "[ 2  4  6  8 10 12 14 16 18]\n",
      "[ 2.  4.  6.  8. 10. 12. 14. 16. 18. 20.]\n",
      "[[0.52260463 0.37637308 0.26047399 0.40588939 0.41887875]\n",
      " [0.81433214 0.67700163 0.00200424 0.72969357 0.57881315]]\n"
     ]
    }
   ],
   "source": [
    "numpyZeros = np.zeros((2,3), dtype=int)\n",
    "numpyOnes = np.ones((3,6))\n",
    "numpyRange = np.arange(start = 2, step = 2, stop = 20) # similar to range funtion\n",
    "linespace = np.linspace(start = 2, stop = 20, num = 10)\n",
    "numpyRandom = np.random.random((2,5))\n",
    "\n",
    "\n",
    "print(numpyZeros)\n",
    "print(numpyOnes)\n",
    "print(numpyRange)\n",
    "print(linespace)\n",
    "print(numpyRandom)\n"
   ]
  },
  {
   "cell_type": "markdown",
   "id": "83b30b98",
   "metadata": {},
   "source": [
    "#### --> Reshaping, Accessing And Modifying Nympy"
   ]
  },
  {
   "cell_type": "code",
   "execution_count": 50,
   "id": "ad54ec9c",
   "metadata": {},
   "outputs": [
    {
     "name": "stdout",
     "output_type": "stream",
     "text": [
      "[ 0  1  2  3  4  5  6  7  8  9 10 11 12 13 14 15 16 17 18 19]\n",
      "[[ 0  5 10 15]\n",
      " [ 1  6 11 16]\n",
      " [ 2  7 12 17]\n",
      " [ 3  8 13 18]\n",
      " [ 4  9 14 19]]\n",
      "11\n"
     ]
    }
   ],
   "source": [
    "# Can reshape using 'reshape' function \n",
    "# You can access specific element in a Numpy array the same way with Python list in case of 1D arrays, using the index\n",
    "\n",
    "# ---------------------------------------------------------------------------------------------------------------------\n",
    "\n",
    "# Accessing various dimentions of array\n",
    "\n",
    "myArray2 = np.arange(20)\n",
    "print(myArray2)\n",
    "\n",
    "myArray2_reshaped = np.reshape(myArray2,(5,4), order= 'F') # The product of these figures must be eqaul to the range in myArray2\n",
    "                                                           # The order rearrange the row first to collumn first\n",
    "print(myArray2_reshaped)\n",
    "print(myArray2_reshaped[1,2]) # Accessing individual data\n",
    "# \n"
   ]
  },
  {
   "cell_type": "code",
   "execution_count": null,
   "id": "de9aab10",
   "metadata": {},
   "outputs": [],
   "source": [
    "# SLICING AND COPYING\n"
   ]
  }
 ],
 "metadata": {
  "kernelspec": {
   "display_name": "Python 3 (ipykernel)",
   "language": "python",
   "name": "python3"
  },
  "language_info": {
   "codemirror_mode": {
    "name": "ipython",
    "version": 3
   },
   "file_extension": ".py",
   "mimetype": "text/x-python",
   "name": "python",
   "nbconvert_exporter": "python",
   "pygments_lexer": "ipython3",
   "version": "3.11.4"
  }
 },
 "nbformat": 4,
 "nbformat_minor": 5
}
