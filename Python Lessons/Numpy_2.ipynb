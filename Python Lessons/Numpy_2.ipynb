{
 "cells": [
  {
   "cell_type": "markdown",
   "metadata": {},
   "source": [
    "### Slicing And Copying"
   ]
  },
  {
   "cell_type": "code",
   "execution_count": null,
   "metadata": {},
   "outputs": [],
   "source": [
    "import numpy as np \n",
    "\n",
    "np.random.seed(0) # This will prevent the random numbers to change each time we run the code again\n",
    "np_rand = np.random.random((3,3))\n",
    "print(np_rand)\n",
    "\n",
    "# If we want 2 rows and 3 colls\n",
    "print(\"-------------------------------------------------\")\n",
    "print(np_rand[0:2, 0:2])\n",
    "\n",
    "# Copy arrays in case we want to take out and some manipulate some data\n",
    "# from the original array without affecting the values in the original array\n",
    "print(\"-------------------------------------------------\")\n",
    "copyRand = np.copy(np_rand[0:2, 0:2]) \n",
    "\n",
    "print(copyRand)"
   ]
  },
  {
   "cell_type": "markdown",
   "metadata": {},
   "source": [
    "## Inserting, Append And Delete Numpy"
   ]
  },
  {
   "cell_type": "code",
   "execution_count": 32,
   "metadata": {},
   "outputs": [],
   "source": [
    "# INSERT\n",
    "# With 'insert' method, you can specify where you want to add new elements.\n",
    "# ------------------------------------------------------------------------------------------------------------\n",
    "# APPEND\n",
    "# The 'append' method is for concatenating new elements. So the are added AFTER the original array elements\n",
    "# If the 'axis' parameter is not used, the output will be 1D array\n",
    "# If the axis parameter was used, the elements MUST have the SAME SHAPE as the original array\n",
    "# If the 'axis' parameter is 1, then the added elements must have the CORRECT SHAPE with the original array\n",
    "#-------------------------------------------------------------------------------------------------------------\n",
    "# DELETE\n",
    "# You can delete elements from a 1D Numpy array using 'delete' functions\n",
    "# You can delete elements from a higher Numpy array using delete function by specifying the 'axis' parameter"
   ]
  },
  {
   "cell_type": "markdown",
   "metadata": {},
   "source": [
    "#### --> Inserting"
   ]
  },
  {
   "cell_type": "code",
   "execution_count": 9,
   "metadata": {},
   "outputs": [],
   "source": [
    "import numpy as np"
   ]
  },
  {
   "cell_type": "code",
   "execution_count": 47,
   "metadata": {},
   "outputs": [
    {
     "name": "stdout",
     "output_type": "stream",
     "text": [
      "[[1 2]\n",
      " [6 8]]\n",
      "[[ 1  2]\n",
      " [ 5 78]\n",
      " [ 6  8]]\n"
     ]
    }
   ],
   "source": [
    "np_arr = np.array([[1,2],[6,8]])\n",
    "print(np_arr)\n",
    "\n",
    "# Insert values\n",
    "np_arr = np.insert(arr=np_arr, obj=1, values=[5,78], axis=0) # axis = 0 will insert in the rows. obj is the position index\n",
    "print(np_arr)\n"
   ]
  },
  {
   "cell_type": "markdown",
   "metadata": {},
   "source": [
    "### -->Appending"
   ]
  },
  {
   "cell_type": "code",
   "execution_count": 56,
   "metadata": {},
   "outputs": [
    {
     "name": "stdout",
     "output_type": "stream",
     "text": [
      "[ 1  2  5 78  6  8  3  5]\n",
      "[[ 1  2]\n",
      " [ 5 78]\n",
      " [ 6  8]\n",
      " [ 3  5]\n",
      " [54 25]]\n"
     ]
    }
   ],
   "source": [
    "np_arr_append = np.append(arr=np_arr, values=[3,5]) # Append converts to a 1D array.\n",
    "print(np_arr_append)\n",
    "\n",
    "# To covert to a 2D array, you need to add a 2D array values and specify the axis\n",
    "np_arr_append = np.append(arr=np_arr, values = [[3,5], [54,25]], axis=0)\n",
    "print(np_arr_append)"
   ]
  },
  {
   "cell_type": "markdown",
   "metadata": {},
   "source": [
    "### --> Deleting "
   ]
  },
  {
   "cell_type": "code",
   "execution_count": 57,
   "metadata": {},
   "outputs": [
    {
     "name": "stdout",
     "output_type": "stream",
     "text": [
      "[[ 5 78]\n",
      " [ 6  8]]\n"
     ]
    }
   ],
   "source": [
    "np_arr = np.delete(arr=np_arr, obj=0, axis=0) # Specify the index based on the axis\n",
    "print(np_arr)"
   ]
  },
  {
   "cell_type": "markdown",
   "metadata": {},
   "source": [
    "## Array Logical Indexing"
   ]
  },
  {
   "cell_type": "code",
   "execution_count": 8,
   "metadata": {},
   "outputs": [
    {
     "name": "stdout",
     "output_type": "stream",
     "text": [
      "[3 5 3 2 4 3 8]\n",
      "[[False False  True]\n",
      " [False False  True]\n",
      " [False False  True]]\n"
     ]
    }
   ],
   "source": [
    "# In case you want to select an array based on a certain condition\n",
    "\n",
    "np_arrLogic = np.array([[1,3,5], [3,2,4],[1,3,8]])\n",
    "np_arr_cond = np_arrLogic[np_arrLogic >= 2]\n",
    "print(np_arr_cond) # Return values greater than 3 in a 1D array\n",
    "print(np_arrLogic > 3) # This will return boolean values in a 2D array"
   ]
  },
  {
   "cell_type": "markdown",
   "metadata": {},
   "source": [
    "## Broadcasting"
   ]
  },
  {
   "cell_type": "code",
   "execution_count": 11,
   "metadata": {},
   "outputs": [
    {
     "name": "stdout",
     "output_type": "stream",
     "text": [
      "[[10 15]\n",
      " [20 25]\n",
      " [30 40]]\n"
     ]
    }
   ],
   "source": [
    "# Broadcasting is how Numpy performs arithmethic operation btw arrays with DIFFERENT shapes\n",
    "# This is done by broadcating the SMALLER\n",
    "# This is faster than 'for loops'. It saves memory \n",
    "# --> One of the dimension is one\n",
    "# --> Trailing dimentions must match. i,e \n",
    "\n",
    "\n",
    "arr = np.array([[2,3],[4,5],[6,8]])\n",
    "brc_arr = arr * 5 # This multiplies each element in the array by 5\n",
    "print(brc_arr)"
   ]
  },
  {
   "cell_type": "code",
   "execution_count": null,
   "metadata": {},
   "outputs": [],
   "source": []
  }
 ],
 "metadata": {
  "kernelspec": {
   "display_name": "base",
   "language": "python",
   "name": "python3"
  },
  "language_info": {
   "codemirror_mode": {
    "name": "ipython",
    "version": 3
   },
   "file_extension": ".py",
   "mimetype": "text/x-python",
   "name": "python",
   "nbconvert_exporter": "python",
   "pygments_lexer": "ipython3",
   "version": "3.11.4"
  },
  "orig_nbformat": 4
 },
 "nbformat": 4,
 "nbformat_minor": 2
}
