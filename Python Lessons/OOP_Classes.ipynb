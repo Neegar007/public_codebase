{
 "cells": [
  {
   "cell_type": "markdown",
   "metadata": {},
   "source": [
    "## Self KeyWord"
   ]
  },
  {
   "cell_type": "code",
   "execution_count": 1,
   "metadata": {},
   "outputs": [],
   "source": [
    "# When youinitialise two or more objects of the same class, Python needs a way to differentiate btw them\n",
    "\n",
    "# Self is a pointer to the memory address where each object of the class is stored"
   ]
  },
  {
   "cell_type": "markdown",
   "metadata": {},
   "source": [
    "## Class"
   ]
  },
  {
   "cell_type": "code",
   "execution_count": 2,
   "metadata": {},
   "outputs": [],
   "source": [
    "# We define a class using the CLASS keyword\n",
    "\n",
    "# It is a convention to use CapitalName for the class\n"
   ]
  },
  {
   "cell_type": "markdown",
   "metadata": {},
   "source": [
    "## Init Keyword"
   ]
  },
  {
   "cell_type": "code",
   "execution_count": 3,
   "metadata": {},
   "outputs": [],
   "source": [
    "# This stores the initial values for all the instance attributes.\n",
    "\n",
    "# it must be created blike this __init__()\n",
    "# The first argument must be \"self\"\n",
    "# The attributes are accessed using the dot \".\""
   ]
  },
  {
   "cell_type": "markdown",
   "metadata": {},
   "source": [
    "## Class VS Instance Attributes"
   ]
  },
  {
   "cell_type": "code",
   "execution_count": 4,
   "metadata": {},
   "outputs": [],
   "source": [
    "# The attributes inside the init method are specific for the instatnce. Called \"instance attributes\"\n",
    "# Attributes that are shared btw all instatances are called class attributes and defined outside the init method"
   ]
  },
  {
   "cell_type": "code",
   "execution_count": 3,
   "metadata": {},
   "outputs": [],
   "source": [
    "class Car :\n",
    "    def __init__(self, model, year, price) :\n",
    "        self.model = model\n",
    "        self.year = year\n",
    "        self.price = price\n",
    "    number_of_wheels = 4"
   ]
  },
  {
   "cell_type": "code",
   "execution_count": 4,
   "metadata": {},
   "outputs": [
    {
     "name": "stdout",
     "output_type": "stream",
     "text": [
      "10000\n",
      "25000\n"
     ]
    }
   ],
   "source": [
    "firstCar = Car(\"Nissan\", 2015, 10000)\n",
    "secondcar = Car(\"BMW\", 2009, 20000)\n",
    "\n",
    "print(firstCar.price)\n",
    "# By default class attributes are public. i.e can be accessed or modified globally \n",
    "firstCar.price = 25000\n",
    "print(firstCar.price)"
   ]
  },
  {
   "cell_type": "markdown",
   "metadata": {},
   "source": [
    "## Modify Attributes"
   ]
  },
  {
   "cell_type": "code",
   "execution_count": 1,
   "metadata": {},
   "outputs": [],
   "source": [
    "# In other programming languages, \"private\" keyword is used to prevent arbitrary access to class attributes\n",
    "# In Python, we use getters and setters methods\n",
    "# The object attributes start with \"__\" (double underscore)\n",
    "# self.__color = color "
   ]
  },
  {
   "cell_type": "code",
   "execution_count": 5,
   "metadata": {},
   "outputs": [
    {
     "name": "stdout",
     "output_type": "stream",
     "text": [
      "BMW\n",
      "Mersedes\n"
     ]
    }
   ],
   "source": [
    "# Acessing and modifying the attributes without exposing the data but encapsulating it. \n",
    "class Cars1 :\n",
    "    def __init__(self, model, year, price) :\n",
    "        self.__model = model\n",
    "        self.year = year\n",
    "        self.price = price\n",
    "    number_of_wheels = 4\n",
    "    \n",
    "    def setModel(self, model) :\n",
    "        self.__model = model\n",
    "    \n",
    "    def getModel(self) :\n",
    "        return self.__model\n",
    "    \n",
    "    model = property(getModel, setModel)\n",
    "    \n",
    "car1 = Cars1(\"BMW\", 2000, 15000)\n",
    "\n",
    "print(car1.model)\n",
    "car1.model = \"Mersedes\"\n",
    "print(car1.model)\n",
    "# This will create an error\n",
    "# print(car1.__model)\n"
   ]
  },
  {
   "cell_type": "code",
   "execution_count": null,
   "metadata": {},
   "outputs": [],
   "source": []
  }
 ],
 "metadata": {
  "kernelspec": {
   "display_name": "base",
   "language": "python",
   "name": "python3"
  },
  "language_info": {
   "codemirror_mode": {
    "name": "ipython",
    "version": 3
   },
   "file_extension": ".py",
   "mimetype": "text/x-python",
   "name": "python",
   "nbconvert_exporter": "python",
   "pygments_lexer": "ipython3",
   "version": "3.11.4"
  },
  "orig_nbformat": 4
 },
 "nbformat": 4,
 "nbformat_minor": 2
}
