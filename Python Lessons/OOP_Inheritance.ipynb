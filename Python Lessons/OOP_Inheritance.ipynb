{
 "cells": [
  {
   "cell_type": "markdown",
   "metadata": {},
   "source": [
    "## Inheritance"
   ]
  },
  {
   "cell_type": "code",
   "execution_count": 1,
   "metadata": {},
   "outputs": [],
   "source": [
    "# In case you want to extend the class functionality without modifying it\n",
    "# Creating new classes from existing one\n",
    "# The child class will inherit all parent class's attributes and methods\n",
    "# The parent class is also called base class or superclass\n",
    "# The child is called derived class.\n",
    "# MULTI-INHERITANCE : A child class can inherit from many parent clases\n",
    "# ------------->>>> OVERRIDING ----------------<<<<<<<<\n",
    "# We can change the functionality of the inherited methods using method\n",
    "# We just writebthe new implementation in the inherited class.\n",
    "# You can add methods specifically for the child class. Not accessible to Parent class \n",
    "# If we want to reuse the method we overrode from the parent class, we use the SUPER function\n"
   ]
  },
  {
   "cell_type": "code",
   "execution_count": 33,
   "metadata": {},
   "outputs": [
    {
     "name": "stdout",
     "output_type": "stream",
     "text": [
      "I am a Vehicle Class\n"
     ]
    }
   ],
   "source": [
    "# INHERITANCE\n",
    "# -------------------------------------------------\n",
    "class Vehicle :\n",
    "    def __init__(self, model, year) :\n",
    "        self.__model = model\n",
    "        self.__year = year\n",
    "        \n",
    "     # Setters and getters are added so that inherited classes can access and use them\n",
    "     # Setters and getters are compulsory for them\n",
    "    @property\n",
    "    def getModel(self, model):\n",
    "         return self.__model\n",
    "     \n",
    "    @getModel.setter\n",
    "    def setModel(self, model):\n",
    "         self.__model = model\n",
    "         \n",
    "    @property\n",
    "    def getYear(self, year):\n",
    "         return self.__year\n",
    "     \n",
    "    @getYear.setter\n",
    "    def setYear(self, year):\n",
    "         self.__year = year\n",
    "         \n",
    "     # Normal Function\n",
    "    def printVehicle(self):\n",
    "        print(\"I am a Vehicle Class\")\n",
    "\n",
    "class Car(Vehicle) : # Car inherits from Vehicle\n",
    "    pass # pass means empty class\n",
    "\n",
    "car1 = Car(\"Benz\", 2015)\n",
    "car1.printVehicle()"
   ]
  },
  {
   "cell_type": "code",
   "execution_count": 27,
   "metadata": {},
   "outputs": [
    {
     "name": "stdout",
     "output_type": "stream",
     "text": [
      "I am a car\n",
      "18750.0\n",
      "I am a bike\n"
     ]
    }
   ],
   "source": [
    "# Method overriding, Adding Specific Methods , Accessing Parent Method\n",
    "\n",
    "class Bike(Vehicle) :\n",
    "    \n",
    "    def __init__(self, price) :\n",
    "        self.price = price\n",
    "    \n",
    "    def printVehicle(self): # Bike class has overridden the printVehicle() method of the parent class\n",
    "        print(\"I am a bike\")\n",
    "        \n",
    "    def discount(self, disc): # Added methods specific to the Bike class\n",
    "        self.price = self.price *  (1 - disc)\n",
    "        super().printVehicle() # Accessing the parent method\n",
    "    \n",
    "        \n",
    "       \n",
    "bike = Bike(25000)\n",
    "bike.discount(0.25)\n",
    "print(bike.price)\n",
    "bike.printVehicle()"
   ]
  },
  {
   "cell_type": "markdown",
   "metadata": {},
   "source": [
    "## Multi-Inheritance"
   ]
  },
  {
   "cell_type": "code",
   "execution_count": 36,
   "metadata": {},
   "outputs": [
    {
     "name": "stdout",
     "output_type": "stream",
     "text": [
      "Mac\n",
      "2023\n",
      "25000.23\n",
      "This is a factory setting message\n"
     ]
    }
   ],
   "source": [
    "# The Bus class inherits from Vehicle and Factory classes all their methods and attributes\n",
    "class Factory :\n",
    "    def print_fac(self):\n",
    "        print(\"This is a factory setting message\")\n",
    "        \n",
    "class Bus(Vehicle, Factory) :\n",
    "    def __init__(self, price) :\n",
    "        self.price = price\n",
    "    \n",
    "bus = Bus(25000.23 )\n",
    "\n",
    "bus.model = \"Mac\"\n",
    "bus.year = 2023\n",
    "print(bus.model)\n",
    "print(bus.year)\n",
    "print(bus.price)\n",
    "bus.print_fac()"
   ]
  },
  {
   "cell_type": "code",
   "execution_count": null,
   "metadata": {},
   "outputs": [],
   "source": []
  }
 ],
 "metadata": {
  "kernelspec": {
   "display_name": "base",
   "language": "python",
   "name": "python3"
  },
  "language_info": {
   "codemirror_mode": {
    "name": "ipython",
    "version": 3
   },
   "file_extension": ".py",
   "mimetype": "text/x-python",
   "name": "python",
   "nbconvert_exporter": "python",
   "pygments_lexer": "ipython3",
   "version": "3.11.4"
  },
  "orig_nbformat": 4
 },
 "nbformat": 4,
 "nbformat_minor": 2
}
