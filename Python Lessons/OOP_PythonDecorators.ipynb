{
 "cells": [
  {
   "cell_type": "markdown",
   "metadata": {},
   "source": [
    "## Python Decorators"
   ]
  },
  {
   "cell_type": "code",
   "execution_count": 1,
   "metadata": {},
   "outputs": [],
   "source": [
    "# It's a function that takes another function as an input just like map and filter\n",
    "# The different is just that it extends the behaviour of the input function, without modifying it\n",
    "# They wrap a function (like sandwish) and modify its functionality"
   ]
  },
  {
   "cell_type": "code",
   "execution_count": 4,
   "metadata": {},
   "outputs": [
    {
     "name": "stdout",
     "output_type": "stream",
     "text": [
      "I am the wrapper\n",
      "This is a modified print function\n",
      "None\n"
     ]
    }
   ],
   "source": [
    "def dec(inner_fun) :\n",
    "    def wrapper_fun() :\n",
    "        print(\"I am the wrapper\")\n",
    "        inner_fun()\n",
    "        \n",
    "    return wrapper_fun\n",
    "\n",
    "def modify_print():\n",
    "    print(\"This is a modified print function\")\n",
    "    \n",
    "\n",
    "z = dec(modify_print)\n",
    "print(z())"
   ]
  },
  {
   "cell_type": "code",
   "execution_count": 5,
   "metadata": {},
   "outputs": [
    {
     "name": "stdout",
     "output_type": "stream",
     "text": [
      "I am the wrapper\n",
      "This is a better way to wrap modified print function\n"
     ]
    }
   ],
   "source": [
    "# A better way\n",
    "\n",
    "@dec\n",
    "def modify_print():\n",
    "    print(\"This is a better way to wrap modified print function\")\n",
    "    \n",
    "x = modify_print()"
   ]
  },
  {
   "cell_type": "code",
   "execution_count": 9,
   "metadata": {},
   "outputs": [
    {
     "name": "stdout",
     "output_type": "stream",
     "text": [
      "I am the wrapper\n",
      "This is another function that uses the wrapper\n"
     ]
    }
   ],
   "source": [
    "# RE-USE THE WRAPPER\n",
    "@dec\n",
    "def another_fun() :\n",
    "    print(\"This is another function that uses the wrapper\")\n",
    "    \n",
    "\n",
    "y = another_fun()"
   ]
  },
  {
   "cell_type": "markdown",
   "metadata": {},
   "source": [
    "## Property Decorators"
   ]
  },
  {
   "cell_type": "code",
   "execution_count": 1,
   "metadata": {},
   "outputs": [],
   "source": [
    "# @Property\n",
    "# @classmethod\n",
    "# @staticmethod"
   ]
  },
  {
   "cell_type": "code",
   "execution_count": 4,
   "metadata": {},
   "outputs": [
    {
     "name": "stdout",
     "output_type": "stream",
     "text": [
      "BMW\n"
     ]
    }
   ],
   "source": [
    "class Car :\n",
    "    def __init__(self, model):\n",
    "        self.__model = model\n",
    "    \n",
    "    # This is a property getter     \n",
    "    @property \n",
    "    def modelFunc(self):\n",
    "        return self.__model\n",
    "    # Property getter func\n",
    "    @modelFunc.setter\n",
    "    def model(self, model):\n",
    "        this.__model = model\n",
    "        \n",
    "car1 = Car(\"BMW\") \n",
    "print(car1.model)"
   ]
  },
  {
   "cell_type": "markdown",
   "metadata": {},
   "source": [
    "## Class Method Decorators"
   ]
  },
  {
   "cell_type": "code",
   "execution_count": null,
   "metadata": {},
   "outputs": [],
   "source": [
    "# It's a class decorator that can be applied on any method in our class\n",
    "# We will call that method using the \"CLASS_NAME\" and not only the object"
   ]
  },
  {
   "cell_type": "code",
   "execution_count": 11,
   "metadata": {},
   "outputs": [
    {
     "name": "stdout",
     "output_type": "stream",
     "text": [
      "Mercedes\n",
      "We have :  1 cars.\n",
      "We have :  2 cars.\n"
     ]
    }
   ],
   "source": [
    "class Car :\n",
    "    cars_count = 0 # Class property\n",
    "    \n",
    "    def __init__(self, model):\n",
    "        self.__model = model\n",
    "        Car.cars_count +=1 # Increases the counters each time the class is called\n",
    "    \n",
    "    # This is a property getter     \n",
    "    @property \n",
    "    def modelFunc(self):\n",
    "        return self.__model\n",
    "    \n",
    "    # Property getter func\n",
    "    @modelFunc.setter\n",
    "    def model(self, model):\n",
    "        this.__model = model\n",
    "        \n",
    "    @classmethod\n",
    "    def countcars(car): # Takes the class as the parameter\n",
    "        print(\"We have : \", car.cars_count , \"cars.\")\n",
    "        \n",
    "car1 = Car(\"Mercedes\")\n",
    "print(car1.model)\n",
    "car1.countcars()\n",
    "\n",
    "car2 = Car(\"Taxi\")\n",
    "car2.countcars()"
   ]
  },
  {
   "cell_type": "markdown",
   "metadata": {},
   "source": [
    "## Static Methods Decorator"
   ]
  },
  {
   "cell_type": "code",
   "execution_count": 12,
   "metadata": {},
   "outputs": [],
   "source": [
    "# Used to defined static methods\n",
    "# Class methods work with the class, because one of their parameters is the class itself\n",
    "# But STATIC methods just deal with the class attributes. They know nothing about the class itself\n",
    "# We cannot access the class nor the object from the static method\n",
    "# Used to perform utility functions. E.g convert letter to upperCase etc"
   ]
  },
  {
   "cell_type": "code",
   "execution_count": 18,
   "metadata": {},
   "outputs": [
    {
     "name": "stdout",
     "output_type": "stream",
     "text": [
      "LAMBOGHINI\n",
      "This peep is from a static method  1\n",
      "Your car model is   LAMBOGHINI\n"
     ]
    }
   ],
   "source": [
    "class Car :\n",
    "    cars_count = 0 # Class property\n",
    "    \n",
    "    def __init__(self, model):\n",
    "        self.__model = model\n",
    "        Car.cars_count +=1 # Increases the counters each time the class is called\n",
    "    \n",
    "    # This is a property getter and setter    \n",
    "    @property \n",
    "    def modelFunc(self):\n",
    "        return self.__model\n",
    "    \n",
    "    # Property setter func\n",
    "    @modelFunc.setter\n",
    "    def model(self, model):\n",
    "        this.__model = model\n",
    "    \n",
    "    # Access only to the class  \n",
    "    @classmethod\n",
    "    def countcars(car): # Takes the class as the parameter\n",
    "        print(\"We have : \", car.cars_count , \"cars.\")\n",
    "    \n",
    "    # Access to nothing\n",
    "    @staticmethod\n",
    "    def peep():\n",
    "        print(\"This peep is from a static method \", Car.cars_count)\n",
    "    \n",
    "    # You may have a normal function for flexibility.\n",
    "    # This allows access to both the class and the object and its attributes/methods\n",
    "    # must take the SELF keyword as a parameter\n",
    "    def print_car_model(self) :\n",
    "        print(\"Your car model is  \", self.__model)\n",
    "        \n",
    "cars = Car(\"LAMBOGHINI\")\n",
    "print(cars.model)\n",
    "cars.peep()\n",
    "cars.print_car_model()"
   ]
  },
  {
   "cell_type": "markdown",
   "metadata": {},
   "source": [
    "## Inner function"
   ]
  },
  {
   "cell_type": "code",
   "execution_count": 5,
   "metadata": {},
   "outputs": [],
   "source": [
    "# This is a function defined inside another function   \n",
    "# We can't call the inner function because they are inside outer function \n",
    "# We can return an inner function inside the outer function. Inner function will be called without parenthesis.\n",
    "# This will infact return the reference of this function."
   ]
  },
  {
   "cell_type": "code",
   "execution_count": null,
   "metadata": {},
   "outputs": [],
   "source": []
  },
  {
   "cell_type": "code",
   "execution_count": 4,
   "metadata": {},
   "outputs": [
    {
     "name": "stdout",
     "output_type": "stream",
     "text": [
      "This is the first print message\n",
      "This will also be printed\n",
      "This is the inner function\n"
     ]
    }
   ],
   "source": [
    "def outer_fun() :\n",
    "    print(\"This is the first print message\")\n",
    "    \n",
    "    def inner_fun():\n",
    "        print(\"This is the inner function\")\n",
    "        \n",
    "    print(\"This will also be printed\")\n",
    "    \n",
    "    inner_fun() # This will be called when the outer function is called\n",
    "    \n",
    "outer_fun()"
   ]
  },
  {
   "cell_type": "code",
   "execution_count": 7,
   "metadata": {},
   "outputs": [
    {
     "name": "stdout",
     "output_type": "stream",
     "text": [
      "This is the first print message\n",
      "This will also be printed\n",
      "<function outer_fun.<locals>.inner_fun at 0x000001EA4BB7EE80>\n",
      "This is the inner function\n",
      "None\n"
     ]
    }
   ],
   "source": [
    "# Calling inner function\n",
    "\n",
    "def outer_fun() :\n",
    "    print(\"This is the first print message\")\n",
    "    \n",
    "    def inner_fun():\n",
    "        print(\"This is the inner function\")\n",
    "        \n",
    "    print(\"This will also be printed\")\n",
    "    \n",
    "    return inner_fun # WIll return the memory address of the inner fuction\n",
    "    \n",
    "output = outer_fun()\n",
    "\n",
    "print(output) # WIll return the memory address of the inner fuction\n",
    "print(output()) # return inner function "
   ]
  },
  {
   "cell_type": "code",
   "execution_count": null,
   "metadata": {},
   "outputs": [],
   "source": []
  }
 ],
 "metadata": {
  "kernelspec": {
   "display_name": "base",
   "language": "python",
   "name": "python3"
  },
  "language_info": {
   "codemirror_mode": {
    "name": "ipython",
    "version": 3
   },
   "file_extension": ".py",
   "mimetype": "text/x-python",
   "name": "python",
   "nbconvert_exporter": "python",
   "pygments_lexer": "ipython3",
   "version": "3.11.4"
  },
  "orig_nbformat": 4
 },
 "nbformat": 4,
 "nbformat_minor": 2
}
