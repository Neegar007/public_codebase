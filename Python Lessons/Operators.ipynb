{
 "cells": [
  {
   "cell_type": "markdown",
   "id": "3b0e3269",
   "metadata": {},
   "source": [
    "### Identity Operators"
   ]
  },
  {
   "cell_type": "code",
   "execution_count": null,
   "id": "f858fef3",
   "metadata": {},
   "outputs": [],
   "source": [
    "# 'is' and 'is not' operators are used to compare objects, not if they are equal, but if they are actually the same object\n",
    "# E.g x is y; x is not y"
   ]
  },
  {
   "cell_type": "markdown",
   "id": "a911b052",
   "metadata": {},
   "source": [
    "### Membership Operators"
   ]
  },
  {
   "cell_type": "code",
   "execution_count": null,
   "id": "5a0115af",
   "metadata": {},
   "outputs": [],
   "source": [
    "# 'in' and 'not in' are used to test if a sequence is present in an object\n",
    "# E.g x in y; x not in y"
   ]
  },
  {
   "cell_type": "markdown",
   "id": "7953b59d",
   "metadata": {},
   "source": [
    "### Bitwise Operators"
   ]
  },
  {
   "cell_type": "code",
   "execution_count": null,
   "id": "6fb2db2f",
   "metadata": {},
   "outputs": [],
   "source": [
    "# '&', '|', '^' AND OR XOR are used to compare binary numbers"
   ]
  },
  {
   "cell_type": "markdown",
   "id": "d0ce2eb5",
   "metadata": {},
   "source": [
    "### Arithmetic Operators"
   ]
  },
  {
   "cell_type": "code",
   "execution_count": null,
   "id": "006ca5db",
   "metadata": {},
   "outputs": [],
   "source": [
    "# %, // ** are modulo, floor division and exponential respectively\n",
    "\n",
    "x = 3\n",
    "y = 10\n",
    "\n",
    "# Returns remainder after division\n",
    "print(x%y)\n",
    "\n",
    "# Returs a rounded numbere\n",
    "print(y//x)\n",
    "\n",
    "# Returns exponential value\n",
    "print(x**y)"
   ]
  },
  {
   "cell_type": "markdown",
   "id": "9c71ea1c",
   "metadata": {},
   "source": [
    "### Assignment Operators"
   ]
  },
  {
   "cell_type": "code",
   "execution_count": 4,
   "id": "b30bb7cf",
   "metadata": {},
   "outputs": [],
   "source": [
    "# These\n",
    "\n",
    "x = 6\n",
    "\n",
    "x += 5 # same as x = x + 6\n",
    "x -= 3\n",
    "x *= 7\n",
    "x %= 4\n",
    "x //= 5\n",
    "x **= 3"
   ]
  },
  {
   "cell_type": "code",
   "execution_count": null,
   "id": "1cb9365e",
   "metadata": {},
   "outputs": [],
   "source": []
  }
 ],
 "metadata": {
  "kernelspec": {
   "display_name": "Python 3 (ipykernel)",
   "language": "python",
   "name": "python3"
  },
  "language_info": {
   "codemirror_mode": {
    "name": "ipython",
    "version": 3
   },
   "file_extension": ".py",
   "mimetype": "text/x-python",
   "name": "python",
   "nbconvert_exporter": "python",
   "pygments_lexer": "ipython3",
   "version": "3.11.4"
  }
 },
 "nbformat": 4,
 "nbformat_minor": 5
}
