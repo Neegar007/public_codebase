{
 "cells": [
  {
   "cell_type": "markdown",
   "metadata": {},
   "source": [
    "## Pandas Data Frame"
   ]
  },
  {
   "cell_type": "code",
   "execution_count": null,
   "metadata": {},
   "outputs": [],
   "source": [
    "# Dataframes are two-dimensional data structure\n",
    "# Can be imagined as a combination of many series\n",
    "# A dictionary for Series object\n",
    "# Each column of the DataFrame is a Series object\n",
    "# We can also create a dataFrame by reading a csv file. Google kaggle to get dataset info. **IMPORTANT**)\n",
    "# ---------------------------------------------------------------------------------------------------------\n",
    "# ATTRIBUTES\n",
    "# * Shape\n",
    "# * ndim\n",
    "# * size\n",
    "# * values\n",
    "# * index\n",
    "# * columns"
   ]
  },
  {
   "cell_type": "code",
   "execution_count": 3,
   "metadata": {},
   "outputs": [
    {
     "name": "stdout",
     "output_type": "stream",
     "text": [
      "                         tweets  Users  Verified\n",
      "0  Tweeter has changed her logo   Seyi      True\n",
      "1         Elon Musk is confused  Tunde     False\n",
      "2                  Making money   Sola     False\n"
     ]
    }
   ],
   "source": [
    "import pandas as pd\n",
    "import numpy as np\n",
    "\n",
    "# Data from a dictionary. All arrays must be of the same length\n",
    "di = {\"tweets\" : [\"Tweeter has changed her logo\", \"Elon Musk is confused\", \"Making money\"], \"Users\" : [\"Seyi\", \"Tunde\", \"Sola\"],\n",
    "      \"Verified\" : [True, False, False]}\n",
    "df_di = pd.DataFrame(di)\n",
    "print(df_di)"
   ]
  },
  {
   "cell_type": "markdown",
   "metadata": {},
   "source": []
  },
  {
   "cell_type": "code",
   "execution_count": 11,
   "metadata": {},
   "outputs": [
    {
     "name": "stdout",
     "output_type": "stream",
     "text": [
      "                         tweets  Users  Verified\n",
      "0  Tweeter has changed her logo   Seyi      True\n",
      "1         Elon Musk is confused  Tunde     False\n",
      "2                  Making money   Sola     False\n"
     ]
    }
   ],
   "source": [
    "# If created from pandas Series, they may not be of the same length. In the place of null value, NaN is used\n",
    "\n",
    "diSeries = {\"tweets\" : pd.Series([\"Tweeter has changed her logo\", \"Elon Musk is confused\", \"Making money\"]), \n",
    "       \"Users\" : pd.Series([\"Seyi\", \"Tunde\", \"Sola\"]),\n",
    "      \"Verified\" : pd.Series([True, False, False])}\n",
    "df_diSeries = pd.DataFrame(diSeries)\n",
    "print(df_diSeries)"
   ]
  },
  {
   "cell_type": "code",
   "execution_count": 14,
   "metadata": {},
   "outputs": [
    {
     "name": "stdout",
     "output_type": "stream",
     "text": [
      "   Figures\n",
      "0        1\n",
      "1       25\n",
      "2       54\n",
      "3       10\n",
      "4       54\n"
     ]
    }
   ],
   "source": [
    "# From a dict of ndarrays/list \n",
    "# '0' will be used as the column name if we we didnt specify the column parameter\n",
    "\n",
    "myList = [1,25,54,10,54]\n",
    "dfList = pd.DataFrame(myList, columns= [\"Figures\"])\n",
    "print(dfList)"
   ]
  },
  {
   "cell_type": "code",
   "execution_count": 3,
   "metadata": {},
   "outputs": [
    {
     "name": "stdout",
     "output_type": "stream",
     "text": [
      "   a    c     y\n",
      "0  2  4.5   NaN\n",
      "1  4  NaN  12.0\n"
     ]
    }
   ],
   "source": [
    "# From a list of dictionary\n",
    "# key names should be the same else another collumn is created\n",
    "# Each element is a row\n",
    "list_dic = [{\"a\" : 2, \"c\" : 4.5}, {\"a\" : 4, \"y\" : 12}]\n",
    "df_list_dic = pd.DataFrame(list_dic)\n",
    "print(df_list_dic)"
   ]
  },
  {
   "cell_type": "code",
   "execution_count": 5,
   "metadata": {},
   "outputs": [
    {
     "name": "stdout",
     "output_type": "stream",
     "text": [
      "[[4.5 4.5 4.5]\n",
      " [4.5 4.5 4.5]\n",
      " [4.5 4.5 4.5]]\n"
     ]
    }
   ],
   "source": [
    "# 2-D numpy.ndarray\n",
    "np_arr = 4.5 * np.ones((3,3))\n",
    "np_dataframe = pd.DataFrame(np_arr)\n",
    "print(np_arr)\n"
   ]
  },
  {
   "cell_type": "code",
   "execution_count": 6,
   "metadata": {},
   "outputs": [
    {
     "name": "stdout",
     "output_type": "stream",
     "text": [
      "     0    1    2\n",
      "0  4.5  4.5  4.5\n",
      "1  4.5  4.5  4.5\n",
      "2  4.5  4.5  4.5\n"
     ]
    }
   ],
   "source": [
    "# From another dataframe\n",
    "# Useful if we want to perform some operations on a dataframe and store it in another dataframe\n",
    "\n",
    "another_df = pd.DataFrame(np_dataframe)\n",
    "print(another_df)"
   ]
  },
  {
   "cell_type": "code",
   "execution_count": 4,
   "metadata": {},
   "outputs": [
    {
     "name": "stdout",
     "output_type": "stream",
     "text": [
      "       Suburb           Address  Rooms Type      Price Method SellerG  \\\n",
      "0  Abbotsford      85 Turner St      2    h  1480000.0      S  Biggin   \n",
      "1  Abbotsford   25 Bloomburg St      2    h  1035000.0      S  Biggin   \n",
      "2  Abbotsford      5 Charles St      3    h  1465000.0     SP  Biggin   \n",
      "3  Abbotsford  40 Federation La      3    h   850000.0     PI  Biggin   \n",
      "4  Abbotsford       55a Park St      4    h  1600000.0     VB  Nelson   \n",
      "\n",
      "        Date  Distance  Postcode  ...  Bathroom  Car  Landsize  BuildingArea  \\\n",
      "0  3/12/2016       2.5    3067.0  ...       1.0  1.0     202.0           NaN   \n",
      "1  4/02/2016       2.5    3067.0  ...       1.0  0.0     156.0          79.0   \n",
      "2  4/03/2017       2.5    3067.0  ...       2.0  0.0     134.0         150.0   \n",
      "3  4/03/2017       2.5    3067.0  ...       2.0  1.0      94.0           NaN   \n",
      "4  4/06/2016       2.5    3067.0  ...       1.0  2.0     120.0         142.0   \n",
      "\n",
      "   YearBuilt  CouncilArea Lattitude  Longtitude             Regionname  \\\n",
      "0        NaN        Yarra  -37.7996    144.9984  Northern Metropolitan   \n",
      "1     1900.0        Yarra  -37.8079    144.9934  Northern Metropolitan   \n",
      "2     1900.0        Yarra  -37.8093    144.9944  Northern Metropolitan   \n",
      "3        NaN        Yarra  -37.7969    144.9969  Northern Metropolitan   \n",
      "4     2014.0        Yarra  -37.8072    144.9941  Northern Metropolitan   \n",
      "\n",
      "  Propertycount  \n",
      "0        4019.0  \n",
      "1        4019.0  \n",
      "2        4019.0  \n",
      "3        4019.0  \n",
      "4        4019.0  \n",
      "\n",
      "[5 rows x 21 columns]\n"
     ]
    }
   ],
   "source": [
    "# From a csv file\n",
    "\n",
    "pd_csv = pd.read_csv('Datasets/melb_data.csv')\n",
    "print(pd_csv.head()) # using .head() method prints first 5 elements by default"
   ]
  },
  {
   "cell_type": "code",
   "execution_count": null,
   "metadata": {},
   "outputs": [],
   "source": []
  },
  {
   "cell_type": "code",
   "execution_count": null,
   "metadata": {},
   "outputs": [],
   "source": []
  }
 ],
 "metadata": {
  "kernelspec": {
   "display_name": "base",
   "language": "python",
   "name": "python3"
  },
  "language_info": {
   "codemirror_mode": {
    "name": "ipython",
    "version": 3
   },
   "file_extension": ".py",
   "mimetype": "text/x-python",
   "name": "python",
   "nbconvert_exporter": "python",
   "pygments_lexer": "ipython3",
   "version": "3.11.4"
  },
  "orig_nbformat": 4
 },
 "nbformat": 4,
 "nbformat_minor": 2
}
