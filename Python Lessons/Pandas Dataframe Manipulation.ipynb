{
 "cells": [
  {
   "cell_type": "markdown",
   "metadata": {},
   "source": [
    "## Pandas DataFrame Manipulation"
   ]
  },
  {
   "cell_type": "code",
   "execution_count": 1,
   "metadata": {},
   "outputs": [],
   "source": [
    "import pandas as pd"
   ]
  },
  {
   "cell_type": "markdown",
   "metadata": {},
   "source": [
    "### Accessing Data"
   ]
  },
  {
   "cell_type": "code",
   "execution_count": 2,
   "metadata": {},
   "outputs": [],
   "source": [
    "# Access elements, row, or columns using LABELS\n",
    "# LABELS can be single or multiple/ numerical or with their name\n",
    "# You can ADD rows using the append() method. The append() will soon be depricated, concat() will be used\n",
    "# Add columns using the insert() method\n",
    "# Remove specific elements using the pop() and drop() methods\n",
    "# Rename columns and rows using the rename() method\n",
    "# Change the row_index_name using the set_index() method"
   ]
  },
  {
   "cell_type": "markdown",
   "metadata": {},
   "source": [
    "# "
   ]
  },
  {
   "cell_type": "code",
   "execution_count": 3,
   "metadata": {},
   "outputs": [
    {
     "name": "stdout",
     "output_type": "stream",
     "text": [
      "       Suburb           Address  Rooms Type      Price Method SellerG  \\\n",
      "0  Abbotsford      85 Turner St      2    h  1480000.0      S  Biggin   \n",
      "1  Abbotsford   25 Bloomburg St      2    h  1035000.0      S  Biggin   \n",
      "2  Abbotsford      5 Charles St      3    h  1465000.0     SP  Biggin   \n",
      "3  Abbotsford  40 Federation La      3    h   850000.0     PI  Biggin   \n",
      "4  Abbotsford       55a Park St      4    h  1600000.0     VB  Nelson   \n",
      "\n",
      "        Date  Distance  Postcode  ...  Bathroom  Car  Landsize  BuildingArea  \\\n",
      "0  3/12/2016       2.5    3067.0  ...       1.0  1.0     202.0           NaN   \n",
      "1  4/02/2016       2.5    3067.0  ...       1.0  0.0     156.0          79.0   \n",
      "2  4/03/2017       2.5    3067.0  ...       2.0  0.0     134.0         150.0   \n",
      "3  4/03/2017       2.5    3067.0  ...       2.0  1.0      94.0           NaN   \n",
      "4  4/06/2016       2.5    3067.0  ...       1.0  2.0     120.0         142.0   \n",
      "\n",
      "   YearBuilt  CouncilArea Lattitude  Longtitude             Regionname  \\\n",
      "0        NaN        Yarra  -37.7996    144.9984  Northern Metropolitan   \n",
      "1     1900.0        Yarra  -37.8079    144.9934  Northern Metropolitan   \n",
      "2     1900.0        Yarra  -37.8093    144.9944  Northern Metropolitan   \n",
      "3        NaN        Yarra  -37.7969    144.9969  Northern Metropolitan   \n",
      "4     2014.0        Yarra  -37.8072    144.9941  Northern Metropolitan   \n",
      "\n",
      "  Propertycount  \n",
      "0        4019.0  \n",
      "1        4019.0  \n",
      "2        4019.0  \n",
      "3        4019.0  \n",
      "4        4019.0  \n",
      "\n",
      "[5 rows x 21 columns]\n"
     ]
    }
   ],
   "source": [
    "dataset = pd.read_csv(\"Datasets/melb_data.csv\")\n",
    "print(dataset.head())"
   ]
  },
  {
   "cell_type": "code",
   "execution_count": null,
   "metadata": {},
   "outputs": [],
   "source": [
    "# Accessing the ones you need using index\n",
    "# Use {objectname}.iloc[{index_number}] to select rows\n",
    "# Use {objectname}.iloc[{rowIndex,columnIndex}] to select data from a specific cell just like in Microsoft Excel\n",
    "# E.G\n",
    "print(dataset.iloc[2]) # Select row 3\n",
    "print(\"---------------------------------------------------------\")\n",
    "print(dataset.iloc[0,1]) # Select the cell in the 1st row and 2nd column"
   ]
  },
  {
   "cell_type": "code",
   "execution_count": null,
   "metadata": {},
   "outputs": [],
   "source": [
    "# Access range of rows using the \":\" operator. E.g {objectname}.iloc[1:4]\n",
    "# This will select rows from 2nd to the 4th \n",
    "print(dataset.iloc[1:4]) # Select row 3"
   ]
  },
  {
   "cell_type": "markdown",
   "metadata": {},
   "source": [
    "### Appending Rows"
   ]
  },
  {
   "cell_type": "code",
   "execution_count": null,
   "metadata": {},
   "outputs": [],
   "source": [
    "# Can only append Series with a name to pandas DataFrame rows \n",
    "addtn_rows = pd.Series(\"This is additional data\", name=\"update\")\n",
    "# Store this append() operation in the variable dataset frame to make the changes permanent\n",
    "print(dataset.append(addtn_rows)) "
   ]
  },
  {
   "cell_type": "markdown",
   "metadata": {},
   "source": [
    "### Inserting Columns"
   ]
  },
  {
   "cell_type": "code",
   "execution_count": null,
   "metadata": {},
   "outputs": [],
   "source": [
    "# Unlike the append() method, no need to store the added column in a variable to make it permanent\n",
    "dataset.insert(loc = 0, column = \"Added_Col\", value=\"verified\")\n",
    "print(dataset.head())"
   ]
  },
  {
   "cell_type": "markdown",
   "metadata": {},
   "source": [
    "### Remove Columns"
   ]
  },
  {
   "cell_type": "code",
   "execution_count": null,
   "metadata": {},
   "outputs": [],
   "source": [
    "# This should be stored in a variable to make the changes permanent\n",
    "dataset = dataset.drop(columns=[\"Suburb\", \"Distance\"], axis=1)\n",
    "print(dataset.head())"
   ]
  },
  {
   "cell_type": "markdown",
   "metadata": {},
   "source": [
    "### Rename Columns"
   ]
  },
  {
   "cell_type": "code",
   "execution_count": null,
   "metadata": {},
   "outputs": [],
   "source": [
    "# Must be stored in a varriable\n",
    "dataset = dataset.rename(columns={\"Address\" : \"Location\"})\n",
    "print(dataset.head())"
   ]
  },
  {
   "cell_type": "markdown",
   "metadata": {},
   "source": [
    "### Setting Index"
   ]
  },
  {
   "cell_type": "code",
   "execution_count": null,
   "metadata": {},
   "outputs": [],
   "source": [
    "# You may use a column to set an index instead of having the default numbers\n",
    "\n",
    "print(dataset.set_index(\"Date\"))"
   ]
  },
  {
   "cell_type": "code",
   "execution_count": null,
   "metadata": {},
   "outputs": [],
   "source": []
  }
 ],
 "metadata": {
  "kernelspec": {
   "display_name": "base",
   "language": "python",
   "name": "python3"
  },
  "language_info": {
   "codemirror_mode": {
    "name": "ipython",
    "version": 3
   },
   "file_extension": ".py",
   "mimetype": "text/x-python",
   "name": "python",
   "nbconvert_exporter": "python",
   "pygments_lexer": "ipython3",
   "version": "3.11.4"
  },
  "orig_nbformat": 4
 },
 "nbformat": 4,
 "nbformat_minor": 2
}
