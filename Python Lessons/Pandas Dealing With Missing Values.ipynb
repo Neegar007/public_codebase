{
 "cells": [
  {
   "cell_type": "markdown",
   "metadata": {},
   "source": [
    "## Dealing With Missing Data"
   ]
  },
  {
   "cell_type": "code",
   "execution_count": 1,
   "metadata": {},
   "outputs": [],
   "source": [
    "# Missing values are stored as Nan\n",
    "\n",
    "# --> isnull. Return true if missing values are found\n",
    "# --> dropna. Deletes row(s) containing missing value\n",
    "# --> fillna. Fill empty values with specified data\n",
    "# --> interpolate"
   ]
  },
  {
   "cell_type": "code",
   "execution_count": 2,
   "metadata": {},
   "outputs": [],
   "source": [
    "import pandas as pd"
   ]
  },
  {
   "cell_type": "code",
   "execution_count": 4,
   "metadata": {},
   "outputs": [
    {
     "name": "stdout",
     "output_type": "stream",
     "text": [
      "                       # Type 1  Type 2  Total  HP  Attack  Defense  Sp. Atk  \\\n",
      "Name                                                                           \n",
      "Bulbasaur              1  Grass  Poison    318  45      49       49       65   \n",
      "Ivysaur                2  Grass  Poison    405  60      62       63       80   \n",
      "Venusaur               3  Grass  Poison    525  80      82       83      100   \n",
      "VenusaurMega Venusaur  3  Grass  Poison    625  80     100      123      122   \n",
      "Charmander             4   Fire     NaN    309  39      52       43       60   \n",
      "\n",
      "                       Sp. Def  Speed  Generation  Legendary  \n",
      "Name                                                          \n",
      "Bulbasaur                   65     45           1      False  \n",
      "Ivysaur                     80     60           1      False  \n",
      "Venusaur                   100     80           1      False  \n",
      "VenusaurMega Venusaur      120     80           1      False  \n",
      "Charmander                  50     65           1      False  \n"
     ]
    }
   ],
   "source": [
    "pokemon = pd.read_csv(\"Datasets/Pokemon.csv\")\n",
    "\n",
    "print(pokemon.head().set_index(\"Name\"))"
   ]
  },
  {
   "cell_type": "code",
   "execution_count": null,
   "metadata": {},
   "outputs": [],
   "source": [
    "# isnull\n",
    "\n",
    "print(pokemon.head().isnull()) # Returns true for a missing value"
   ]
  },
  {
   "cell_type": "code",
   "execution_count": null,
   "metadata": {},
   "outputs": [],
   "source": [
    "# dropna\n",
    "\n",
    "print(pokemon.head().dropna().set_index(\"Name\")) # deletes any row containing NaN value"
   ]
  },
  {
   "cell_type": "code",
   "execution_count": null,
   "metadata": {},
   "outputs": [],
   "source": [
    "# fillna\n",
    "# dictionary can be used to fill the NaN . \n",
    " Replaces any missing value with the specified value\n",
    "print(pokemon.head().fillna(5, inplace = True) ) # 'inplace = True' Makes the changes permanent"
   ]
  },
  {
   "cell_type": "code",
   "execution_count": null,
   "metadata": {},
   "outputs": [],
   "source": [
    "# interpolate\n",
    "print(pokemon.interpolate(method=\"linear\"))"
   ]
  },
  {
   "cell_type": "code",
   "execution_count": null,
   "metadata": {},
   "outputs": [],
   "source": []
  }
 ],
 "metadata": {
  "kernelspec": {
   "display_name": "base",
   "language": "python",
   "name": "python3"
  },
  "language_info": {
   "codemirror_mode": {
    "name": "ipython",
    "version": 3
   },
   "file_extension": ".py",
   "mimetype": "text/x-python",
   "name": "python",
   "nbconvert_exporter": "python",
   "pygments_lexer": "ipython3",
   "version": "3.11.4"
  },
  "orig_nbformat": 4
 },
 "nbformat": 4,
 "nbformat_minor": 2
}
