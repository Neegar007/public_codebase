{
 "cells": [
  {
   "cell_type": "markdown",
   "metadata": {},
   "source": [
    "# Pandas"
   ]
  },
  {
   "cell_type": "code",
   "execution_count": 1,
   "metadata": {},
   "outputs": [],
   "source": [
    "# The name comes from Panel Data which is an econometric term\n",
    "# Crucial for data manipulation and analysis\n",
    "# It adds two net data structures : dataframe and series\n",
    "\n",
    "# The dataframe is perfect for tabular data manipulation\n",
    "# Easy-to-use functions for INTERFACING with text files, excel sheets, SQL databases and HDF5 binary files\n",
    "#Flexible in labeling rows and columns\n",
    "# Highly integrable with Numpy, MatPlotLib and hundreds of powerful libraries\n",
    "# Dozens of data cleaning, manipulation, and analysis functions "
   ]
  },
  {
   "cell_type": "markdown",
   "metadata": {},
   "source": [
    "## --> Series"
   ]
  },
  {
   "cell_type": "code",
   "execution_count": 3,
   "metadata": {},
   "outputs": [],
   "source": [
    "# Its a 1D object capable of holding any data type even python object etc\n",
    "# Can assign an index for each element\n",
    "# Its convention to import pandas as pd\n",
    "# Basic attributes are : shape, ndim (number of dimension), size, values, index"
   ]
  },
  {
   "cell_type": "code",
   "execution_count": 1,
   "metadata": {},
   "outputs": [
    {
     "name": "stdout",
     "output_type": "stream",
     "text": [
      "0    1\n",
      "1    3\n",
      "2    4\n",
      "3    5\n",
      "4    6\n",
      "5    7\n",
      "dtype: int32\n",
      "0     1\n",
      "1    10\n",
      "2     4\n",
      "dtype: int64\n",
      "first        25\n",
      "Name       Seyi\n",
      "Age          25\n",
      "IsYoung    True\n",
      "Name: contact, dtype: object\n"
     ]
    }
   ],
   "source": [
    "import pandas as pd\n",
    "import numpy as np\n",
    "\n",
    "np_arr = np.array([1,3,4,5,6,7])\n",
    "series_np = pd.Series(np_arr) # Series \n",
    "print(series_np)\n",
    "\n",
    "# Series from a list\n",
    "seris_list = pd.Series([1,10,4])\n",
    "print(seris_list)\n",
    "\n",
    "# Series from a dictionary\n",
    "di = {\"first\" : 25, \"Name\" : \"Seyi\", \"Age\" : 25, \"IsYoung\" : True}\n",
    "series_dic = pd.Series(di, name=\"contact\")\n",
    "print(series_dic)"
   ]
  },
  {
   "cell_type": "code",
   "execution_count": 8,
   "metadata": {},
   "outputs": [
    {
     "name": "stdout",
     "output_type": "stream",
     "text": [
      "1    10\n",
      "2    10\n",
      "3    10\n",
      "5    10\n",
      "dtype: int64\n"
     ]
    }
   ],
   "source": [
    "# Series from a scalar value\n",
    "\n",
    "scalar_value = 10\n",
    "scalar_series = pd.Series(scalar_value, index=[1,2,3,5])\n",
    "print(scalar_series)"
   ]
  },
  {
   "cell_type": "code",
   "execution_count": 9,
   "metadata": {},
   "outputs": [
    {
     "name": "stdout",
     "output_type": "stream",
     "text": [
      "[10 10 10 10]\n"
     ]
    }
   ],
   "source": [
    "# Convert a series to a numpy array\n",
    "\n",
    "to_np_Array = scalar_series.to_numpy()\n",
    "print(to_np_Array)"
   ]
  },
  {
   "cell_type": "code",
   "execution_count": 4,
   "metadata": {},
   "outputs": [
    {
     "name": "stdout",
     "output_type": "stream",
     "text": [
      "7\n"
     ]
    }
   ],
   "source": [
    "# dict-like. Get the value in collum....\n",
    "print(series_np.get(5))"
   ]
  },
  {
   "cell_type": "code",
   "execution_count": 5,
   "metadata": {},
   "outputs": [
    {
     "name": "stdout",
     "output_type": "stream",
     "text": [
      "(6,)\n"
     ]
    }
   ],
   "source": [
    "# Shape\n",
    "print(series_np.shape)"
   ]
  },
  {
   "cell_type": "code",
   "execution_count": 12,
   "metadata": {},
   "outputs": [
    {
     "name": "stdout",
     "output_type": "stream",
     "text": [
      "1\n"
     ]
    }
   ],
   "source": [
    "# ndim\n",
    "\n",
    "print(series_dic.ndim)"
   ]
  },
  {
   "cell_type": "code",
   "execution_count": 13,
   "metadata": {},
   "outputs": [
    {
     "name": "stdout",
     "output_type": "stream",
     "text": [
      "4\n"
     ]
    }
   ],
   "source": [
    "# Size\n",
    "\n",
    "print(series_dic.size)"
   ]
  },
  {
   "cell_type": "code",
   "execution_count": 14,
   "metadata": {},
   "outputs": [
    {
     "name": "stdout",
     "output_type": "stream",
     "text": [
      "[25 'Seyi' 25 True]\n"
     ]
    }
   ],
   "source": [
    "# Values\n",
    "\n",
    "print(series_dic.values)"
   ]
  },
  {
   "cell_type": "code",
   "execution_count": 16,
   "metadata": {},
   "outputs": [
    {
     "name": "stdout",
     "output_type": "stream",
     "text": [
      "Index(['first', 'Name', 'Age', 'IsYoung'], dtype='object')\n"
     ]
    }
   ],
   "source": [
    "# Index \n",
    "\n",
    "print(series_dic.index)"
   ]
  },
  {
   "cell_type": "code",
   "execution_count": 24,
   "metadata": {},
   "outputs": [
    {
     "name": "stdout",
     "output_type": "stream",
     "text": [
      "contact\n"
     ]
    }
   ],
   "source": [
    "# Naming \n",
    "print(series_dic.name)"
   ]
  },
  {
   "cell_type": "code",
   "execution_count": null,
   "metadata": {},
   "outputs": [],
   "source": []
  }
 ],
 "metadata": {
  "kernelspec": {
   "display_name": "base",
   "language": "python",
   "name": "python3"
  },
  "language_info": {
   "codemirror_mode": {
    "name": "ipython",
    "version": 3
   },
   "file_extension": ".py",
   "mimetype": "text/x-python",
   "name": "python",
   "nbconvert_exporter": "python",
   "pygments_lexer": "ipython3",
   "version": "3.11.4"
  },
  "orig_nbformat": 4
 },
 "nbformat": 4,
 "nbformat_minor": 2
}
