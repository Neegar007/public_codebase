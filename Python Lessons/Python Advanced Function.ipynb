{
 "cells": [
  {
   "cell_type": "markdown",
   "id": "186b261e",
   "metadata": {},
   "source": [
    "## LAMBDA Functions"
   ]
  },
  {
   "cell_type": "code",
   "execution_count": 2,
   "id": "eb4447af",
   "metadata": {},
   "outputs": [
    {
     "name": "stdout",
     "output_type": "stream",
     "text": [
      "24\n"
     ]
    }
   ],
   "source": [
    "# These are one line functions. We use the lambda keyword to define them\n",
    "# Used for small functions; as an argument for higher-order functions like filter & map. These take functions as argument; \n",
    "\n",
    "mul = lambda x,y : x*y\n",
    "\n",
    "print(mul(4,6))\n"
   ]
  },
  {
   "cell_type": "markdown",
   "id": "69498755",
   "metadata": {},
   "source": [
    "## *args AND **kwargs"
   ]
  },
  {
   "cell_type": "code",
   "execution_count": null,
   "id": "1e20dfe1",
   "metadata": {},
   "outputs": [],
   "source": [
    "\"\"\"\n",
    "# *args\n",
    "# When the number of parameters a function will take is unknown \n",
    "# Prefix with asterisk * called unpacking operator. It loops over the list of supplied parameters\n",
    "# **KWARGS : in case we have keywords or named arguments. This accept dictionary as parameters\n",
    "#  FUNTION INPUT ORDERING\n",
    "# --> 1 Standard Input\n",
    "         a. Required Input\n",
    "         b. Optional Input\n",
    "  --> 2 Positional input (*args)\n",
    "  --> 3 Keyword Input (**kwargs)\n",
    "  \n",
    "  EXAMPLE : def func_examp(x, y, z = 3, *args, **kwargs):\n",
    "  If our function is going to accept these parameters, they must be in order of Python FUNCTION INPUT ORDERING.\n",
    "\n",
    "\"\"\"\n"
   ]
  },
  {
   "cell_type": "code",
   "execution_count": 4,
   "id": "f2dc78b2",
   "metadata": {},
   "outputs": [
    {
     "name": "stdout",
     "output_type": "stream",
     "text": [
      "2\n",
      "key\n",
      "4\n",
      "8\n"
     ]
    }
   ],
   "source": [
    "# *args\n",
    "def printInput(*args) : \n",
    "    for i in args :\n",
    "        print(i)\n",
    "        \n",
    "printInput(2,\"key\",4,8)"
   ]
  },
  {
   "cell_type": "code",
   "execution_count": 7,
   "id": "9692a037",
   "metadata": {},
   "outputs": [
    {
     "name": "stdout",
     "output_type": "stream",
     "text": [
      "FirstName Seyi\n",
      "Surname Aderibigbe\n"
     ]
    }
   ],
   "source": [
    "# **kwargs\n",
    "\n",
    "def printInput2(**k) : # Not compulsory to use kwargs. the double asterisks tell python **\n",
    "    for key, value in zip(k.keys(), k.values()) : \n",
    "        print(key, value)\n",
    "\n",
    "printInput2(FirstName = \"Seyi\", Surname = \"Aderibigbe\")"
   ]
  },
  {
   "cell_type": "markdown",
   "id": "4de52e3b",
   "metadata": {},
   "source": [
    "## Python Iterators"
   ]
  },
  {
   "cell_type": "code",
   "execution_count": null,
   "id": "b510072b",
   "metadata": {},
   "outputs": [],
   "source": [
    "# Iterators are Python objects that contains the data stream, and we can traverse through their elements\n",
    "# We can construct an iterator from iterables(set, list, tuple,dictionary) using 'iter' keyword\n",
    "# We can iterate over the iterator element-by-element using 'next' keyword\n",
    "# If iterator doesn't have more element, it will throw an error called StopIteration\n",
    "# Used for a very big data set\n",
    "# This use the concept of LAZY EVALUATION. Which means not all variables are stored in the memory unlike list, set etc\n",
    "# That's why we can access other iterables through their index or key\n",
    "# It will only access the one we need therefore making our code memory efficient"
   ]
  },
  {
   "cell_type": "code",
   "execution_count": 29,
   "id": "72267274",
   "metadata": {},
   "outputs": [],
   "source": [
    "my_list = [1,2,5,9]\n",
    "\n",
    "iterator = iter(my_list)\n",
    "\n",
    "#print(iterator[0]) # This will Throw error"
   ]
  },
  {
   "cell_type": "code",
   "execution_count": 28,
   "id": "abc97c39",
   "metadata": {},
   "outputs": [
    {
     "name": "stdout",
     "output_type": "stream",
     "text": [
      "1\n",
      "2\n",
      "5\n",
      "9\n"
     ]
    }
   ],
   "source": [
    "print(next(iterator))\n",
    "print(next(iterator))\n",
    "print(next(iterator))\n",
    "print(next(iterator))"
   ]
  },
  {
   "cell_type": "markdown",
   "id": "715a3a8b",
   "metadata": {},
   "source": [
    "## Generators AND Yield"
   ]
  },
  {
   "cell_type": "code",
   "execution_count": 53,
   "id": "54fc10d3",
   "metadata": {},
   "outputs": [],
   "source": [
    "# Generators :- are functions we use to create iterators\n",
    "# Yield :- the difference btw regular functions and generators is the yield keyword\n",
    "\n",
    "def reverse(data) :\n",
    "    reverse_list = []\n",
    "    for i in range(len(data) - 1, -1, -1) : # To start returning the index num from the end\n",
    "        reverse_list.append(my_list[i]) \n",
    "    print(reverse_list)"
   ]
  },
  {
   "cell_type": "code",
   "execution_count": 68,
   "id": "b7e19c11",
   "metadata": {},
   "outputs": [
    {
     "name": "stdout",
     "output_type": "stream",
     "text": [
      "[15, 9, 5, 1]\n",
      "CPU times: total: 0 ns\n",
      "Wall time: 0 ns\n"
     ]
    }
   ],
   "source": [
    "myList = [1,5,9,15]\n",
    "%time reverse(myList)"
   ]
  },
  {
   "cell_type": "code",
   "execution_count": 62,
   "id": "0e257a43",
   "metadata": {},
   "outputs": [],
   "source": [
    "# A better way using yield keyword\n",
    "\n",
    "def reverseGenerator(data) :\n",
    "    for i in range(len(data) - 1, -1, -1) :\n",
    "        yield reverseGeneratorList[i]"
   ]
  },
  {
   "cell_type": "code",
   "execution_count": 70,
   "id": "5ebf734a",
   "metadata": {},
   "outputs": [],
   "source": [
    "reverseGeneratorList = [\"two\", 25, 12.65, True]\n",
    "newList = reverseGenerator(reverseGeneratorList)"
   ]
  },
  {
   "cell_type": "code",
   "execution_count": 71,
   "id": "6fc3ad46",
   "metadata": {},
   "outputs": [
    {
     "name": "stdout",
     "output_type": "stream",
     "text": [
      "CPU times: total: 0 ns\n",
      "Wall time: 0 ns\n"
     ]
    },
    {
     "data": {
      "text/plain": [
       "True"
      ]
     },
     "execution_count": 71,
     "metadata": {},
     "output_type": "execute_result"
    }
   ],
   "source": [
    "%time next(newList)"
   ]
  },
  {
   "cell_type": "code",
   "execution_count": 72,
   "id": "eea6fc9f",
   "metadata": {},
   "outputs": [
    {
     "name": "stdout",
     "output_type": "stream",
     "text": [
      "CPU times: total: 0 ns\n",
      "Wall time: 0 ns\n"
     ]
    },
    {
     "data": {
      "text/plain": [
       "12.65"
      ]
     },
     "execution_count": 72,
     "metadata": {},
     "output_type": "execute_result"
    }
   ],
   "source": [
    "%time next(newList)"
   ]
  },
  {
   "cell_type": "code",
   "execution_count": 66,
   "id": "668dfc75",
   "metadata": {},
   "outputs": [
    {
     "data": {
      "text/plain": [
       "25"
      ]
     },
     "execution_count": 66,
     "metadata": {},
     "output_type": "execute_result"
    }
   ],
   "source": [
    "next(newList)"
   ]
  },
  {
   "cell_type": "markdown",
   "id": "2f7992ce",
   "metadata": {},
   "source": [
    "## Map Function"
   ]
  },
  {
   "cell_type": "code",
   "execution_count": 1,
   "id": "0009e459",
   "metadata": {},
   "outputs": [],
   "source": [
    "# Higher order function takes functions as arguments.\n",
    "# Syntax :  map(func, *iterables).\n",
    "# It applies the function to the iterables. There can be more than one iterables\n",
    "# The function must have number of inputs equal to the number of iterables\n",
    "# The map function retuns a generator that can be applied by using the list built-in function\n",
    "# The function can be normal or lambda. It's better to use lambda"
   ]
  },
  {
   "cell_type": "code",
   "execution_count": 18,
   "id": "7ea6e52b",
   "metadata": {},
   "outputs": [
    {
     "name": "stdout",
     "output_type": "stream",
     "text": [
      "[17, 10, 57, 46]\n"
     ]
    }
   ],
   "source": [
    "# Normal Function over iterables\n",
    "\n",
    "def myNormalFunc(iterable) :\n",
    "    itemList = []\n",
    "    for items in iterable :\n",
    "        items += 5\n",
    "        itemList.append(items)\n",
    "    print(itemList)\n",
    "\n",
    "my_Iter = [12, 5, 52, 41]\n",
    "myNormalFunc(my_Iter)\n"
   ]
  },
  {
   "cell_type": "code",
   "execution_count": 34,
   "id": "f1c57452",
   "metadata": {},
   "outputs": [
    {
     "name": "stdout",
     "output_type": "stream",
     "text": [
      "12\n",
      "5\n"
     ]
    }
   ],
   "source": [
    "# Using map but geting the value one by one\n",
    "\n",
    "def addFiveMap(element) :\n",
    "    return element + 10\n",
    "\n",
    "outPut = map(addFiveMap, my_Iter)\n",
    "print(next(outPut))\n",
    "print(next(outPut))"
   ]
  },
  {
   "cell_type": "code",
   "execution_count": 25,
   "id": "8966eecb",
   "metadata": {},
   "outputs": [
    {
     "name": "stdout",
     "output_type": "stream",
     "text": [
      "{17, 10, 46, 57}\n"
     ]
    }
   ],
   "source": [
    "# Using lambda but converting to list, set, tuple, etc\n",
    "\n",
    "lambdaOutPut = map( lambda element : element + 5, my_Iter)\n",
    "print(set(lambdaOutPut))"
   ]
  },
  {
   "cell_type": "code",
   "execution_count": 26,
   "id": "9df62eec",
   "metadata": {},
   "outputs": [
    {
     "name": "stdout",
     "output_type": "stream",
     "text": [
      "[12.0, 5.0, 52.0, 41.0]\n"
     ]
    }
   ],
   "source": [
    "# Using built-in function. E.g float\n",
    "\n",
    "floatCasted = map(float, my_Iter)\n",
    "print(list(floatCasted))"
   ]
  },
  {
   "cell_type": "code",
   "execution_count": 36,
   "id": "ced1e08c",
   "metadata": {},
   "outputs": [
    {
     "data": {
      "text/plain": [
       "[4, 64, 1296, 32768]"
      ]
     },
     "execution_count": 36,
     "metadata": {},
     "output_type": "execute_result"
    }
   ],
   "source": [
    "# Using map with more than one list\n",
    "# This multiplies numList in the powers of powList\n",
    "\n",
    "numList = [2, 4, 6, 8]\n",
    "powList = [2, 3, 4, 5]\n",
    "\n",
    "list( map( pow, numList, powList))"
   ]
  },
  {
   "cell_type": "markdown",
   "id": "520199cd",
   "metadata": {},
   "source": [
    "## Filter Function"
   ]
  },
  {
   "cell_type": "code",
   "execution_count": 37,
   "id": "a06d5cd4",
   "metadata": {},
   "outputs": [],
   "source": [
    "# Filter applies a function on selected specific elements from the iterable based on a condition in the function\n",
    "# Syntax : filter(func, iterable)\n",
    "# Can only work on one iterable at a time\n",
    "# The funtion used as argument must return a Boolean iterable\n",
    "# filter() returns a generator so it must be coverted into a list"
   ]
  },
  {
   "cell_type": "code",
   "execution_count": 23,
   "id": "e7ef622e",
   "metadata": {},
   "outputs": [
    {
     "name": "stdout",
     "output_type": "stream",
     "text": [
      "[80, 100, 60, 70]\n"
     ]
    }
   ],
   "source": [
    "# This check is the grade is bigger than 50. Will return true\n",
    "grades = [20, 80, 100, 50, 60, 70]\n",
    "\n",
    "def grade(grade): \n",
    "    return grade > 50\n",
    "\n",
    "passed  = list(filter(grade, grades))\n",
    "print(passed)\n"
   ]
  },
  {
   "cell_type": "code",
   "execution_count": 21,
   "id": "1ea34ce4",
   "metadata": {},
   "outputs": [
    {
     "data": {
      "text/plain": [
       "[80, 100, 60, 70]"
      ]
     },
     "execution_count": 21,
     "metadata": {},
     "output_type": "execute_result"
    }
   ],
   "source": [
    "# using lambda\n",
    "\n",
    "passGrade = list(filter(lambda Lgrade : Lgrade > 50 , grades))\n",
    "\n",
    "passGrade"
   ]
  },
  {
   "cell_type": "code",
   "execution_count": null,
   "id": "2a98241a",
   "metadata": {},
   "outputs": [],
   "source": []
  }
 ],
 "metadata": {
  "kernelspec": {
   "display_name": "Python 3 (ipykernel)",
   "language": "python",
   "name": "python3"
  },
  "language_info": {
   "codemirror_mode": {
    "name": "ipython",
    "version": 3
   },
   "file_extension": ".py",
   "mimetype": "text/x-python",
   "name": "python",
   "nbconvert_exporter": "python",
   "pygments_lexer": "ipython3",
   "version": "3.11.4"
  }
 },
 "nbformat": 4,
 "nbformat_minor": 5
}
