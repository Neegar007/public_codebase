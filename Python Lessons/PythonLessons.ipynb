{
 "cells": [
  {
   "cell_type": "code",
   "execution_count": 1,
   "id": "2710bd01",
   "metadata": {},
   "outputs": [
    {
     "name": "stdout",
     "output_type": "stream",
     "text": [
      "welcome To Python\n"
     ]
    }
   ],
   "source": [
    "\"\"\"This is a mini project that accetps user input, count how many times a character appears and the percentage the \n",
    "character has in the message\"\"\""
   ]
  },
  {
   "cell_type": "markdown",
   "id": "c91b3ebe",
   "metadata": {},
   "source": [
    "#### Print A Welcome Message"
   ]
  },
  {
   "cell_type": "code",
   "execution_count": 6,
   "id": "500ca856",
   "metadata": {},
   "outputs": [
    {
     "name": "stdout",
     "output_type": "stream",
     "text": [
      "This is a mini project that accetps user input,count how many times a character appears and the percentage the character has in the message\n"
     ]
    }
   ],
   "source": [
    "print(\"This is a mini project that accetps user input,count how many times a character appears and the percentage the character has in the message\")"
   ]
  },
  {
   "cell_type": "markdown",
   "id": "51e8fa1d",
   "metadata": {},
   "source": [
    "#### Accepts User Inputs"
   ]
  },
  {
   "cell_type": "code",
   "execution_count": 16,
   "id": "4612a8fc",
   "metadata": {},
   "outputs": [
    {
     "name": "stdout",
     "output_type": "stream",
     "text": [
      "Please enter your message : I'm writing a project\n",
      "Search for a character or words : i\n"
     ]
    }
   ],
   "source": [
    "userMsg = input(\"Please enter your message : \")\n",
    "searchChar = input(\"Search for a character or words : \")"
   ]
  },
  {
   "cell_type": "markdown",
   "id": "68a18e51",
   "metadata": {},
   "source": [
    "#### Count the occurrences"
   ]
  },
  {
   "cell_type": "code",
   "execution_count": 19,
   "id": "597ab62f",
   "metadata": {},
   "outputs": [],
   "source": [
    "occur = userMsg.count(searchChar)"
   ]
  },
  {
   "cell_type": "markdown",
   "id": "9b79de71",
   "metadata": {},
   "source": [
    "#### Calculate The Percentage"
   ]
  },
  {
   "cell_type": "code",
   "execution_count": 28,
   "id": "a6f035d2",
   "metadata": {},
   "outputs": [],
   "source": [
    "userMsgLen = len(userMsg)\n",
    "perc = occur/userMsgLen*100"
   ]
  },
  {
   "cell_type": "markdown",
   "id": "df555c93",
   "metadata": {},
   "source": [
    "#### Print The Result"
   ]
  },
  {
   "cell_type": "code",
   "execution_count": 29,
   "id": "e19ffb25",
   "metadata": {},
   "outputs": [
    {
     "name": "stdout",
     "output_type": "stream",
     "text": [
      "The count of the letter  i  is  2\n",
      "The percentage of letter  i  is  9.523809523809524 %\n"
     ]
    }
   ],
   "source": [
    "print(\"The count of the letter \", searchChar, \" is \", occur)\n",
    "print(\"The percentage of letter \", searchChar, \" is \", perc, \"%\")"
   ]
  },
  {
   "cell_type": "code",
   "execution_count": null,
   "id": "3864171e",
   "metadata": {},
   "outputs": [],
   "source": []
  }
 ],
 "metadata": {
  "kernelspec": {
   "display_name": "Python 3 (ipykernel)",
   "language": "python",
   "name": "python3"
  },
  "language_info": {
   "codemirror_mode": {
    "name": "ipython",
    "version": 3
   },
   "file_extension": ".py",
   "mimetype": "text/x-python",
   "name": "python",
   "nbconvert_exporter": "python",
   "pygments_lexer": "ipython3",
   "version": "3.11.4"
  }
 },
 "nbformat": 4,
 "nbformat_minor": 5
}
