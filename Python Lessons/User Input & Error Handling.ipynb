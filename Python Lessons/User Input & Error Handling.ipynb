{
 "cells": [
  {
   "cell_type": "markdown",
   "id": "d27932a9",
   "metadata": {},
   "source": [
    "## User Input"
   ]
  },
  {
   "cell_type": "code",
   "execution_count": 3,
   "id": "eb267795",
   "metadata": {},
   "outputs": [
    {
     "name": "stdout",
     "output_type": "stream",
     "text": [
      "Please enter a nummber : tr\n"
     ]
    }
   ],
   "source": [
    "# Accepts user input\n",
    "\n",
    "userInput = input(\"Please enter a number : \")"
   ]
  },
  {
   "cell_type": "markdown",
   "id": "57c4d67b",
   "metadata": {},
   "source": [
    "## Exceptions"
   ]
  },
  {
   "cell_type": "code",
   "execution_count": 79,
   "id": "c0b6a452",
   "metadata": {},
   "outputs": [
    {
     "ename": "Exception",
     "evalue": "This is wrong",
     "output_type": "error",
     "traceback": [
      "\u001b[1;31m---------------------------------------------------------------------------\u001b[0m",
      "\u001b[1;31mException\u001b[0m                                 Traceback (most recent call last)",
      "Cell \u001b[1;32mIn[79], line 9\u001b[0m\n\u001b[0;32m      6\u001b[0m z \u001b[38;5;241m=\u001b[39m \u001b[38;5;241m15\u001b[39m\n\u001b[0;32m      8\u001b[0m \u001b[38;5;28;01mif\u001b[39;00m z \u001b[38;5;241m>\u001b[39m x :\n\u001b[1;32m----> 9\u001b[0m     \u001b[38;5;28;01mraise\u001b[39;00m \u001b[38;5;167;01mException\u001b[39;00m(\u001b[38;5;124m\"\u001b[39m\u001b[38;5;124mThis is wrong\u001b[39m\u001b[38;5;124m\"\u001b[39m)\n\u001b[0;32m     10\u001b[0m \u001b[38;5;28mprint\u001b[39m(\u001b[38;5;124m\"\u001b[39m\u001b[38;5;124mHello\u001b[39m\u001b[38;5;124m\"\u001b[39m)\n",
      "\u001b[1;31mException\u001b[0m: This is wrong"
     ]
    }
   ],
   "source": [
    "# They are runtime errors. They are two types\n",
    "# built-in and user defined. raise Exception(*string); assert <condition>\n",
    "\n",
    "x = 12\n",
    "y = 0\n",
    "z = 15\n",
    "\n",
    "if z > x :\n",
    "    raise Exception(\"This is wrong\")\n",
    "print(\"Hello\")\n"
   ]
  },
  {
   "cell_type": "code",
   "execution_count": 81,
   "id": "ad56d2da",
   "metadata": {},
   "outputs": [
    {
     "ename": "AssertionError",
     "evalue": "",
     "output_type": "error",
     "traceback": [
      "\u001b[1;31m---------------------------------------------------------------------------\u001b[0m",
      "\u001b[1;31mAssertionError\u001b[0m                            Traceback (most recent call last)",
      "Cell \u001b[1;32mIn[81], line 5\u001b[0m\n\u001b[0;32m      2\u001b[0m y \u001b[38;5;241m=\u001b[39m \u001b[38;5;241m5\u001b[39m\n\u001b[0;32m      3\u001b[0m z \u001b[38;5;241m=\u001b[39m \u001b[38;5;241m10\u001b[39m\n\u001b[1;32m----> 5\u001b[0m \u001b[38;5;28;01massert\u001b[39;00m z \u001b[38;5;241m<\u001b[39m y \n\u001b[0;32m      6\u001b[0m \u001b[38;5;28mprint\u001b[39m(\u001b[38;5;124m\"\u001b[39m\u001b[38;5;124mHello\u001b[39m\u001b[38;5;124m\"\u001b[39m)\n",
      "\u001b[1;31mAssertionError\u001b[0m: "
     ]
    }
   ],
   "source": [
    "# assert keyword can be used if the logic return false\n",
    "\n",
    "y = 5\n",
    "z = 10\n",
    "\n",
    "assert z < y \n",
    "print(\"Hello\")"
   ]
  },
  {
   "cell_type": "code",
   "execution_count": 12,
   "id": "0cff63fa",
   "metadata": {},
   "outputs": [
    {
     "name": "stdout",
     "output_type": "stream",
     "text": [
      "0.5\n",
      "Warning : cannot divide  by zero\n",
      "Hello\n"
     ]
    }
   ],
   "source": [
    "# Because all exceptions breaks the code, we use try and except keyword to raise exceptions while keep on running the code\n",
    "def div(x,y) :\n",
    "    try :\n",
    "        result = x /y\n",
    "    except :\n",
    "            result = \"Warning : cannot divide  by zero\"\n",
    "            \n",
    "    return result\n",
    "\n",
    "print(div(1,2))\n",
    "print(div(2,0))\n",
    "print(\"Hello\")"
   ]
  },
  {
   "cell_type": "code",
   "execution_count": 77,
   "id": "35a8c9bb",
   "metadata": {},
   "outputs": [
    {
     "name": "stdout",
     "output_type": "stream",
     "text": [
      "1.5\n",
      "Error! x is less y\n",
      "0.75\n",
      "Warning : cannot divide  by zero\n",
      "Error! Numbers olny\n",
      "1.4580801944106925\n"
     ]
    }
   ],
   "source": [
    "# Handling Multiple Exeptions. This is useful to catch multiple errors\n",
    "# There should be more than one logic to cactch nultiple exception\n",
    "# Use python built in excetions to catch multiple\n",
    "\n",
    "def div(x,y) :\n",
    "    try :\n",
    "        result = x /y\n",
    "        assert x >= y # Return false if otherwise and throw an exception\n",
    "        int(x), int(y) # check for type . Returns false if not integers\n",
    "        \n",
    "    except ZeroDivisionError : # Built-in error\n",
    "        result = \"Warning : cannot divide  by zero\"\n",
    "        \n",
    "    except AssertionError :\n",
    "        print(\"Error! x is less y\") # Prints the error message but will continue running\n",
    "        \n",
    "    except TypeError : # Built-in Error\n",
    "        result = \"Error! Numbers olny\"\n",
    "    #finally :\n",
    "       # print(\"------ Logic is done ------\") # Print the statement anyway\n",
    "        \n",
    "        \n",
    "    return result\n",
    "\n",
    "print(div(12,8))\n",
    "print(div(6,8))\n",
    "print(div(5,0))\n",
    "print(div(5,\"8\"))\n",
    "print(div(12,8.23))"
   ]
  },
  {
   "cell_type": "code",
   "execution_count": 87,
   "id": "40b00d50",
   "metadata": {},
   "outputs": [
    {
     "name": "stdout",
     "output_type": "stream",
     "text": [
      "0.5\n",
      "Warning : cannot divide  by zero\n",
      "Hello\n"
     ]
    }
   ],
   "source": [
    "# Using else keyword\n",
    "\n",
    "def div(x,y) :\n",
    "    try :\n",
    "        result = x /y\n",
    "    except : # Stands for 'if' statements\n",
    "        result = \"Warning : cannot divide  by zero\"\n",
    "    else :      \n",
    "        return result\n",
    "    \n",
    "    return result\n",
    "\n",
    "print(div(1,2))\n",
    "print(div(2,0))\n",
    "print(\"Hello\")"
   ]
  },
  {
   "cell_type": "code",
   "execution_count": null,
   "id": "d218d813",
   "metadata": {},
   "outputs": [],
   "source": []
  }
 ],
 "metadata": {
  "kernelspec": {
   "display_name": "Python 3 (ipykernel)",
   "language": "python",
   "name": "python3"
  },
  "language_info": {
   "codemirror_mode": {
    "name": "ipython",
    "version": 3
   },
   "file_extension": ".py",
   "mimetype": "text/x-python",
   "name": "python",
   "nbconvert_exporter": "python",
   "pygments_lexer": "ipython3",
   "version": "3.11.4"
  }
 },
 "nbformat": 4,
 "nbformat_minor": 5
}
